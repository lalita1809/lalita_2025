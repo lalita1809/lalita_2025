{
 "cells": [
  {
   "cell_type": "markdown",
   "metadata": {},
   "source": [
    "---\n",
    "layout: post\n",
    "title: Popcorn and Homework Hacks for Lessons 3.1\n",
    "description: All homeworks for Lessons\n",
    "courses: { csp: {week: 1} }\n",
    "comments: true\n",
    "sticky_rank: 1\n",
    "---"
   ]
  },
  {
   "cell_type": "code",
   "execution_count": 2,
   "metadata": {
    "vscode": {
     "languageId": "javascript"
    }
   },
   "outputs": [
    {
     "data": {
      "application/javascript": "\n\n// Create a dictionary (object) in JavaScript\nvar myDictionary = {\n    1: \"banana\",\n    2: \"apple\",\n    3: \"strawberry\"\n};\n\n// Accessing a value\nconsole.log(\"Fruit with key 2:\", myDictionary[2]); \n",
      "text/plain": [
       "<IPython.core.display.Javascript object>"
      ]
     },
     "metadata": {},
     "output_type": "display_data"
    }
   ],
   "source": [
    "%%js\n",
    "\n",
    "\n",
    "// Create a dictionary (object) in JavaScript\n",
    "var myDictionary = {\n",
    "    1: \"banana\",\n",
    "    2: \"apple\",\n",
    "    3: \"strawberry\"\n",
    "};\n",
    "\n",
    "// Accessing a value\n",
    "console.log(\"Fruit with key 2:\", myDictionary[2]); \n"
   ]
  },
  {
   "cell_type": "code",
   "execution_count": 10,
   "metadata": {},
   "outputs": [
    {
     "name": "stdout",
     "output_type": "stream",
     "text": [
      "Incorrect. The correct answer was 187.\n",
      "Your current score: 0\n",
      "Correct!\n",
      "Your current score: 1\n",
      "Correct!\n",
      "Your current score: 2\n",
      "Thanks for playing! Your final score is: 2\n"
     ]
    }
   ],
   "source": [
    "import random\n",
    "\n",
    "# Function to generate a random math question\n",
    "def generate_question():\n",
    "    num1 = random.randint(1, 20)\n",
    "    num2 = random.randint(1, 20)\n",
    "    operator = random.choice(['+', '-', '*'])\n",
    "    question = f\"{num1} {operator} {num2}\"\n",
    "    \n",
    "    # Calculate the correct answer based on the operator\n",
    "    correct_answer = eval(question)  # 'eval' executes the math operation in the string\n",
    "    return question, correct_answer\n",
    "\n",
    "# Function to handle the game play\n",
    "def play_game():\n",
    "    score = 0  # Initialize the player's score\n",
    "\n",
    "    while True:\n",
    "        # Generate a new question and its correct answer\n",
    "        question, correct_answer = generate_question()\n",
    "        \n",
    "        # Ask the player for an answer or to quit\n",
    "        player_input = input(f\"What is {question}? (or type 'q' to quit): \").strip().lower()\n",
    "\n",
    "        # Quit if the player enters 'q'\n",
    "        if player_input == 'q':\n",
    "            print(f\"Thanks for playing! Your final score is: {score}\")\n",
    "            break\n",
    "\n",
    "        # Check if player's answer is correct\n",
    "        if player_input.isdigit() or (player_input.startswith('-') and player_input[1:].isdigit()):\n",
    "            player_answer = int(player_input)\n",
    "            if player_answer == correct_answer:\n",
    "                print(\"Correct!\")\n",
    "                score += 1\n",
    "            else:\n",
    "                print(f\"Incorrect. The correct answer was {correct_answer}.\")\n",
    "        else:\n",
    "            print(\"Please enter a valid number or 'q' to quit.\")\n",
    "        \n",
    "        # Display the current score\n",
    "        print(f\"Your current score: {score}\")\n",
    "\n",
    "# Start the game\n",
    "play_game()\n",
    "\n"
   ]
  },
  {
   "cell_type": "code",
   "execution_count": 11,
   "metadata": {},
   "outputs": [
    {
     "name": "stdout",
     "output_type": "stream",
     "text": [
      "Welcome to the Temperature Converter!\n",
      "Choose the conversion type:\n",
      "1: Celsius to Fahrenheit\n",
      "2: Fahrenheit to Celsius\n",
      "90.0°C is equal to 194.00°F.\n"
     ]
    }
   ],
   "source": [
    "# Function to convert temperature\n",
    "def temperature_converter():\n",
    "    print(\"Welcome to the Temperature Converter!\")\n",
    "    \n",
    "    # Get temperature input from the user\n",
    "    temp = float(input(\"Enter the temperature: \"))\n",
    "    \n",
    "    # Get conversion choice\n",
    "    print(\"Choose the conversion type:\")\n",
    "    print(\"1: Celsius to Fahrenheit\")\n",
    "    print(\"2: Fahrenheit to Celsius\")\n",
    "    choice = input(\"Enter 1 or 2: \")\n",
    "    \n",
    "    if choice == '1':\n",
    "        # Convert Celsius to Fahrenheit\n",
    "        converted_temp = (temp * 9/5) + 32\n",
    "        print(f\"{temp}°C is equal to {converted_temp:.2f}°F.\")\n",
    "    elif choice == '2':\n",
    "        # Convert Fahrenheit to Celsius\n",
    "        converted_temp = (temp - 32) * 5/9\n",
    "        print(f\"{temp}°F is equal to {converted_temp:.2f}°C.\")\n",
    "    else:\n",
    "        print(\"Invalid choice. Please enter 1 or 2.\")\n",
    "\n",
    "# Call the function to use the temperature converter\n",
    "temperature_converter()\n"
   ]
  },
  {
   "cell_type": "code",
   "execution_count": 6,
   "metadata": {
    "vscode": {
     "languageId": "javascript"
    }
   },
   "outputs": [
    {
     "data": {
      "application/javascript": "\n// Function to convert temperature\nfunction temperatureConverter() {\n    let temp = parseFloat(document.getElementById('tempInput').value);\n    let choice = document.getElementById('conversionType').value;\n    let result;\n\n    if (choice === 'CtoF') {\n        // Celsius to Fahrenheit\n        result = (temp * 9 / 5) + 32;\n        document.getElementById('result').innerHTML = `${temp}°C is equal to ${result.toFixed(2)}°F.`;\n    } else if (choice === 'FtoC') {\n        // Fahrenheit to Celsius\n        result = (temp - 32) * 5 / 9;\n        document.getElementById('result').innerHTML = `${temp}°F is equal to ${result.toFixed(2)}°C.`;\n    } else {\n        document.getElementById('result').innerHTML = 'Please select a valid conversion type.';\n    }\n}\n",
      "text/plain": [
       "<IPython.core.display.Javascript object>"
      ]
     },
     "metadata": {},
     "output_type": "display_data"
    }
   ],
   "source": [
    "%%javascript\n",
    "\n",
    "// Function to convert temperature\n",
    "function temperatureConverter() {\n",
    "    let temp = parseFloat(document.getElementById('tempInput').value);\n",
    "    let choice = document.getElementById('conversionType').value;\n",
    "    let result;\n",
    "\n",
    "    if (choice === 'CtoF') {\n",
    "        // Celsius to Fahrenheit\n",
    "        result = (temp * 9 / 5) + 32;\n",
    "        document.getElementById('result').innerHTML = `${temp}°C is equal to ${result.toFixed(2)}°F.`;\n",
    "    } else if (choice === 'FtoC') {\n",
    "        // Fahrenheit to Celsius\n",
    "        result = (temp - 32) * 5 / 9;\n",
    "        document.getElementById('result').innerHTML = `${temp}°F is equal to ${result.toFixed(2)}°C.`;\n",
    "    } else {\n",
    "        document.getElementById('result').innerHTML = 'Please select a valid conversion type.';\n",
    "    }\n",
    "}\n"
   ]
  },
  {
   "cell_type": "code",
   "execution_count": 8,
   "metadata": {},
   "outputs": [
    {
     "name": "stdout",
     "output_type": "stream",
     "text": [
      "Toothbrush: 30 @ $30.0 each = $900.00\n",
      "Don: 40 @ $30.0 each = $1200.00\n",
      "Total cost: $2100.00\n"
     ]
    }
   ],
   "source": [
    "# Step 1: Initialize the shopping list as a dictionary\n",
    "shopping_list = {}\n",
    "\n",
    "# Step 2: User Input for Shopping List\n",
    "def add_item():\n",
    "    while True:\n",
    "        item_name = input(\"Enter the item name (or 'done' to finish): \").lower()\n",
    "        if item_name == 'done':\n",
    "            break\n",
    "        try:\n",
    "            price = float(input(f\"Enter the price for {item_name}: \"))\n",
    "            quantity = int(input(f\"Enter the quantity for {item_name}: \"))\n",
    "            shopping_list[item_name] = {\"price\": price, \"quantity\": quantity}\n",
    "        except ValueError:\n",
    "            print(\"Please enter valid numbers for price and quantity.\")\n",
    "\n",
    "def calculate_total():\n",
    "    total = 0\n",
    "    for item, info in shopping_list.items():\n",
    "        item_total = info[\"price\"] * info[\"quantity\"]\n",
    "        total += item_total\n",
    "        print(f\"{item.capitalize()}: {info['quantity']} @ ${info['price']} each = ${item_total:.2f}\")\n",
    "    print(f\"Total cost: ${total:.2f}\")\n",
    "\n",
    "# Example flow\n",
    "add_item()\n",
    "calculate_total()\n"
   ]
  },
  {
   "cell_type": "code",
   "execution_count": 9,
   "metadata": {
    "vscode": {
     "languageId": "javascript"
    }
   },
   "outputs": [
    {
     "data": {
      "application/javascript": "// Step 1: Initialize Conversion Rates\nconst conversionRates = {\n    cup: { tablespoon: 16, teaspoon: 48 },\n    tablespoon: { cup: 1 / 16, teaspoon: 3 },\n    teaspoon: { cup: 1 / 48, tablespoon: 1 / 3 }\n};\n\n// Step 2: Input for Ingredients\nfunction convertIngredient(amount, fromUnit, toUnit) {\n    // Step 3: Conversion Logic\n    if (conversionRates[fromUnit] && conversionRates[fromUnit][toUnit]) {\n        return amount * conversionRates[fromUnit][toUnit];\n    } else {\n        return null;  // Return null if conversion is not possible\n    }\n}\n\n// Step 4: Display the Converted Results\nfunction getConversion() {\n    const amount = parseFloat(prompt(\"Enter the ingredient amount: \"));\n    const fromUnit = prompt(\"Enter the unit you have (cup, tablespoon, teaspoon): \").toLowerCase();\n    const toUnit = prompt(\"Enter the unit you want to convert to (cup, tablespoon, teaspoon): \").toLowerCase();\n    \n    const result = convertIngredient(amount, fromUnit, toUnit);\n    \n    if (result !== null) {\n        alert(`${amount} ${fromUnit}(s) is equal to ${result.toFixed(2)} ${toUnit}(s).`);\n    } else {\n        alert(\"Sorry, conversion not available.\");\n    }\n}\n\n// Example flow\ngetConversion();\n",
      "text/plain": [
       "<IPython.core.display.Javascript object>"
      ]
     },
     "metadata": {},
     "output_type": "display_data"
    }
   ],
   "source": [
    "%%javascript\n",
    "// Step 1: Initialize Conversion Rates\n",
    "const conversionRates = {\n",
    "    cup: { tablespoon: 16, teaspoon: 48 },\n",
    "    tablespoon: { cup: 1 / 16, teaspoon: 3 },\n",
    "    teaspoon: { cup: 1 / 48, tablespoon: 1 / 3 }\n",
    "};\n",
    "\n",
    "// Step 2: Input for Ingredients\n",
    "function convertIngredient(amount, fromUnit, toUnit) {\n",
    "    // Step 3: Conversion Logic\n",
    "    if (conversionRates[fromUnit] && conversionRates[fromUnit][toUnit]) {\n",
    "        return amount * conversionRates[fromUnit][toUnit];\n",
    "    } else {\n",
    "        return null;  // Return null if conversion is not possible\n",
    "    }\n",
    "}\n",
    "\n",
    "// Step 4: Display the Converted Results\n",
    "function getConversion() {\n",
    "    const amount = parseFloat(prompt(\"Enter the ingredient amount: \"));\n",
    "    const fromUnit = prompt(\"Enter the unit you have (cup, tablespoon, teaspoon): \").toLowerCase();\n",
    "    const toUnit = prompt(\"Enter the unit you want to convert to (cup, tablespoon, teaspoon): \").toLowerCase();\n",
    "    \n",
    "    const result = convertIngredient(amount, fromUnit, toUnit);\n",
    "    \n",
    "    if (result !== null) {\n",
    "        alert(`${amount} ${fromUnit}(s) is equal to ${result.toFixed(2)} ${toUnit}(s).`);\n",
    "    } else {\n",
    "        alert(\"Sorry, conversion not available.\");\n",
    "    }\n",
    "}\n",
    "\n",
    "// Example flow\n",
    "getConversion();\n"
   ]
  }
 ],
 "metadata": {
  "kernelspec": {
   "display_name": "venv",
   "language": "python",
   "name": "python3"
  },
  "language_info": {
   "codemirror_mode": {
    "name": "ipython",
    "version": 3
   },
   "file_extension": ".py",
   "mimetype": "text/x-python",
   "name": "python",
   "nbconvert_exporter": "python",
   "pygments_lexer": "ipython3",
   "version": "3.12.5"
  }
 },
 "nbformat": 4,
 "nbformat_minor": 2
}
