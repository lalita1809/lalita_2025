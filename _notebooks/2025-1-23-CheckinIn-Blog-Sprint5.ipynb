{
 "cells": [
  {
   "cell_type": "markdown",
   "metadata": {},
   "source": [
    "---\n",
    "layout: post\n",
    "title: Check In for Sprint 5 blog\n",
    "description: What I have done/Learned in Sprint 5\n",
    "courses: { csp: {week: 1} }\n",
    "comments: true\n",
    "sticky_rank: 1\n",
    "---"
   ]
  },
  {
   "cell_type": "markdown",
   "metadata": {
    "vscode": {
     "languageId": "html"
    }
   },
   "source": [
    "<div style=\"font-size: 30px; font-family: 'Times New Roman', Times, serif; font-weight: bold; text-align: center; background: linear-gradient(to right, red, orange, yellow, green, blue, indigo, violet); -webkit-background-clip: text; color: transparent;\">\n",
    "  TAKE A BYTE PROJECT.\n",
    "</div>\n",
    "\n",
    "\n"
   ]
  },
  {
   "cell_type": "markdown",
   "metadata": {
    "vscode": {
     "languageId": "plaintext"
    }
   },
   "source": [
    "<div style=\"font-size: 20px; font-family: 'Times New Roman', Times, serif; font-weight: bold; text-align: center; background: linear-gradient(to right, red, orange, yellow, green, blue, indigo, violet); -webkit-background-clip: text; color: transparent;\">\n",
    "  INTRODUCTION\n",
    "</div>\n",
    "\n",
    "<h3>Need a bite? Take A Byte! We are an online cookbook with recipies from different cuisines around the world 🌍️ </h3>\n"
   ]
  },
  {
   "cell_type": "markdown",
   "metadata": {},
   "source": [
    "<div style=\"font-size: 20px; font-family: 'Times New Roman', Times, serif; font-weight: bold; text-align: center; background: linear-gradient(to right, red, orange, yellow, green, blue, indigo, violet); -webkit-background-clip: text; color: transparent;\">\n",
    "  FRONTEND MAIN FEATURES \n",
    "</div>\n",
    "\n",
    "<h3>I am working on the feedback feature, so in my fronted I have a chat box where it shows up per cuisine and users can input feedback in order for other users to know if this recipe is a recipe they should use or not use. </h3>\n",
    "\n",
    "![Image](https://github.com/user-attachments/assets/c6263d6c-80de-44e7-9514-e2be0bcbea9f)\n",
    "\n",
    "<h3>This part of my friend end makes sures to fetch the data from the backend so that the feedback, that is stored in the backend, per recipe appears when you click on each recipe.  </h3>\n",
    "\n",
    "![Image](https://github.com/user-attachments/assets/b7592ecc-1001-4f59-9509-de13447c2e84)\n",
    "\n"
   ]
  },
  {
   "cell_type": "markdown",
   "metadata": {
    "vscode": {
     "languageId": "plaintext"
    }
   },
   "source": [
    "<div style=\"font-size: 20px; font-family: 'Times New Roman', Times, serif; font-weight: bold; text-align: center; background: linear-gradient(to right, red, orange, yellow, green, blue, indigo, violet); -webkit-background-clip: text; color: transparent;\">\n",
    "  BACKEND FEATURES\n",
    "</div>\n",
    "<h3>I created a static API that serves predefined responses. Using Postman, I was able to test the API endpoints and successfully push the values into the database. This allowed me to verify the functionality of the API and its integration with the database system. </h3>\n",
    "\n",
    "![Image](https://github.com/user-attachments/assets/d75ba4cc-1eee-4bf5-8b88-ae618558615f)\n",
    "![Image](https://github.com/user-attachments/assets/8cd61796-6021-4972-bc5a-d396666e27df)\n",
    "![Image](https://github.com/user-attachments/assets/2d6b3530-765f-4b2a-ab79-6239813463d8)\n",
    "![Image](https://github.com/user-attachments/assets/3d548a3d-ba3d-4212-9ec3-5ff29e572cee)\n",
    "\n",
    "<h3>This was in model actually creating the columns for my database </h3>\n",
    "\n",
    "![Image](https://github.com/user-attachments/assets/04adaaed-c1e9-4d99-95bd-5b5401ce1eae)\n",
    "\n",
    "<h3> I now have proceeded to create the dynamic APIS, unfortunately I do have a 500 intenral server error, which I have tried working on with many of my peers and Mr.Mortenson, which has not allowed me to move futher than I would like too, and I have gone back and re started doing my backend development in order to fix this issue. </h3>\n",
    "\n",
    "![Image](https://github.com/user-attachments/assets/d1011f92-2041-48bf-b579-f611a8f30d04)\n"
   ]
  }
 ],
 "metadata": {
  "language_info": {
   "name": "python"
  }
 },
 "nbformat": 4,
 "nbformat_minor": 2
}
