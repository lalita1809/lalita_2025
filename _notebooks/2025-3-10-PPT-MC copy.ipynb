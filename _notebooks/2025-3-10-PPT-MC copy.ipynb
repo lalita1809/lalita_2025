{
 "cells": [
  {
   "cell_type": "markdown",
   "metadata": {},
   "source": [
    "---\n",
    "layout: post\n",
    "title: PPT and MC\n",
    "description: Making sure I have an understanding on PPT and MCQ\n",
    "courses: { csp: {week: 12} }\n",
    "comments: true\n",
    "sticky_rank: 1\n",
    "---"
   ]
  },
  {
   "cell_type": "markdown",
   "metadata": {},
   "source": [
    "## 2020 MCQ  and corrections \n",
    "\n",
    "[MCQ reflection link ](https://docs.google.com/document/d/1mSMpCgnnXRmVhblHrmEgABSEHNg9F3uuPitsjxgb8kU/edit?tab=t.0  )"
   ]
  },
  {
   "cell_type": "markdown",
   "metadata": {},
   "source": [
    "## How my feature worked \n",
    "\n",
    "[Video Link](https://drive.google.com/file/d/1_DyIlyqZRIR5gB_Pds63TveoEXJZUmOK/view?usp=sharing )"
   ]
  },
  {
   "cell_type": "markdown",
   "metadata": {},
   "source": [
    "## How my Project Met the CPT requirements \n",
    "\n",
    "### Mastering CPT requriements \n",
    "\n",
    "| CPT   | How I fulfilled  |\n",
    "| -------- | ------- |\n",
    "| Lists  | The database stores and retrieves multiple free-response entries as items in a list.    |\n",
    "| A procedure | The database is initialized with test data to ensure a structured data setup. |\n",
    "| A call to the procedure    | Makes an API request to retrieve data from the backend.    |\n",
    "| Selection   | Verifies and processes data for validity before inserting or updating database records.   |\n",
    "| Iteration  |Loops traverse database entries and frontend responses for processing.   |\n"
   ]
  },
  {
   "cell_type": "markdown",
   "metadata": {},
   "source": [
    "\n",
    "# Application Features Documentation\n",
    "\n",
    "## Lists\n",
    "\n",
    "### Lists Creation\n",
    "<img src=\"https://github.com/user-attachments/assets/062db215-24fb-45d5-a726-1bbc1b52aabf\" width=\"400\">\n",
    "\n",
    "The create_delete_list function takes a list of items and a condition function as input. It iterates through the list and applies the condition to each item, returning a new list that contains only the items that meet the specified deletion criteria. This is done using list comprehension, making the function both efficient and concise. For example, if used on a list of filenames with a condition that checks for certain keywords like \"old\" or \"temp,\" it will return a list of files that should be deleted. This approach helps in filtering out unwanted elements dynamically based on user-defined rules.\n",
    "\n",
    "### List Process \n",
    "\n",
    "<img src=\"https://github.com/user-attachments/assets/51f5e9f4-d334-4262-b632-ebdfabbc0bfb\" width=\"400\">\n",
    "\n",
    "This code snippet is a JavaScript function that updates feedback data by making a PUT request to an API endpoint. It constructs a request using the fetch function, sending JSON-formatted data to the server. The request includes headers specifying the content type as JSON and an authorization token retrieved from localStorage to authenticate the request. The body of the request contains an object where name (previously id) identifies the feedback entry to be updated, and written_feedback contains the new content. In terms of list processing, this function facilitates modifying an item within a collection of feedback entries stored on the server. When the request is processed, the server likely searches for the matching feedback entry in a list or database using the provided name, then updates its content accordingly. This approach ensures efficient handling of updates within a structured list of data.\n",
    "\n",
    "### Function with parameters and if-self statement\n",
    "\n",
    "<img src=\"https://github.com/user-attachments/assets/5e770e62-b15d-4540-8685-b914daaa8273\" width=\"400\">\n",
    "\n",
    "This JavaScript code handles the response of an API request to update feedback data, using an if statement to check whether the request was successful. Wrapped inside a try-catch block, the code first sends an update request and then evaluates the response.ok property. If the update is successful, an alert message notifies the user, and the fetchFeedbackData() function is called to refresh the displayed feedback list. If the request fails, an error message is displayed. In case of an unexpected error, the catch block captures it and alerts the user with the specific error message. This logic can be structured within a function with parameters, such as updateFeedback(feedbackId, newContent), where feedbackId identifies the feedback entry and newContent contains the updated text. The function would then execute the API request dynamically based on these parameters, making it reusable for different feedback updates. The if condition ensures that only successful responses trigger a data refresh, while failures are handled gracefully. If structured in an object-oriented approach, this logic could also be encapsulated within a method that refers to itself (an \"if-self\" structure) to modify its own properties, ensuring seamless updates.\n",
    "\n",
    "\n",
    "\n",
    "### Call to Function\n",
    "\n",
    "<img src=\"https://github.com/user-attachments/assets/9c41cc66-9db1-4398-be14-a2ec1107d6ea\" alt=\"Image\" width=\"300\">\n",
    "\n",
    "\n",
    "\n",
    "\n",
    "This Python code snippet is likely part of a database query using SQLAlchemy, an ORM (Object Relational Mapper) for interacting with databases. The line retrieves a specific feedback entry from the database by filtering based on the name field. First, it extracts the value associated with name from the feedback_data dictionary using feedback_data.get(\"name\"). Then, it applies the filter_by method to query the database, looking for a record where the name column matches this extracted value. The .first() method ensures that only the first matching record is returned. This approach is useful for retrieving a single feedback entry, allowing further modifications or validations. Additionally, the use of cls.query suggests that this is a class method, meaning it operates within a model class representing the feedback table. This structure enhances code readability and maintainability by encapsulating database interactions within class-based methods.\n",
    "\n",
    "\n",
    "\n",
    "\n",
    "\n",
    "\n"
   ]
  },
  {
   "cell_type": "markdown",
   "metadata": {},
   "source": [
    "\n",
    "\n",
    "\n"
   ]
  }
 ],
 "metadata": {
  "language_info": {
   "name": "python"
  }
 },
 "nbformat": 4,
 "nbformat_minor": 2
}
