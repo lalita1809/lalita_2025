{
 "cells": [
  {
   "cell_type": "markdown",
   "metadata": {},
   "source": [
    "---\n",
    "layout: page\n",
    "title: Biggest Accomplishments and Takeaways\n",
    "description: A blog for ideas for CompSci, etc.\n",
    "permalink: /blogofblogs/\n",
    "comments: true\n",
    "sticky_rank: 1\n",
    "---\n"
   ]
  },
  {
   "cell_type": "raw",
   "metadata": {
    "vscode": {
     "languageId": "raw"
    }
   },
   "source": [
    "{% include nav/lessons.html %}"
   ]
  },
  {
   "cell_type": "markdown",
   "metadata": {},
   "source": [
    "\n",
    "![image](https://github.com/user-attachments/assets/d3f0427a-8b8d-4137-8964-2e71a88aca6f)\n",
    "\n",
    "\n",
    "![image](https://github.com/user-attachments/assets/f0633a14-34e2-4b86-bda3-c991a656c6a1)"
   ]
  }
 ],
 "metadata": {
  "kernelspec": {
   "display_name": "venv",
   "language": "python",
   "name": "python3"
  },
  "language_info": {
   "codemirror_mode": {
    "name": "ipython",
    "version": 3
   },
   "file_extension": ".py",
   "mimetype": "text/x-python",
   "name": "python",
   "nbconvert_exporter": "python",
   "pygments_lexer": "ipython3",
   "version": "3.12.5"
  }
 },
 "nbformat": 4,
 "nbformat_minor": 2
}
