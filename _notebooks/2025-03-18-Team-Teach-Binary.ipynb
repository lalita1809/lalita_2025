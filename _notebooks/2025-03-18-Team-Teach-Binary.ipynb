{
 "cells": [
  {
   "cell_type": "markdown",
   "metadata": {},
   "source": [
    "---\n",
    "layout: post\n",
    "title: Engineering Project\n",
    "description: Overview of Engineering Project for Future Reference\n",
    "courses: { csp: {week: 12} }\n",
    "comments: true\n",
    "sticky_rank: 1\n",
    "---"
   ]
  },
  {
   "cell_type": "markdown",
   "metadata": {},
   "source": [
    "## Purpose: \n",
    "\n",
    "This is a web-based platform designed to help students explore engineering fields by matching their interests with relevant disciplines. It also features a project tracker supported by a comprehensive parts and project database, enabling hands-on learning and progress tracking. The purpose is to engage students through personalized exploration and practical experience, guiding them toward informed decisions about their future in engineering.\n"
   ]
  },
  {
   "cell_type": "markdown",
   "metadata": {},
   "source": [
    "## What we have so far:\n",
    "\n",
    "<a href=\"https://joannahu123.github.io/engineering_project/\" style=\"display:inline-block; background-color:#ffb6c1 ; color:white; padding:10px 20px; text-decoration:none; border-radius:5px; font-weight:bold;\">Starter Page</a>\n",
    "\n",
    "In this project so far we have developed a buzzfeed like game to match users with different profiles and also people can post their project they have done after being inspired by our website on what majors they want to do! "
   ]
  },
  {
   "cell_type": "markdown",
   "metadata": {},
   "source": [
    "## Future Databases Students Can Use\n",
    "\n",
    "- LinkedIn Proflies \n",
    "- <a href = https://researchguides.library.syr.edu/architecture \n",
    "- <a href = https://lib.uw.edu/engineering/resources/englibdb >\n",
    "- <a href = https://libguides.colorado.edu/portal/engineering >"
   ]
  },
  {
   "cell_type": "markdown",
   "metadata": {},
   "source": [
    "## Guides and Articles About the Impact of Engineering \n",
    "\n",
    "- <a href = https://engineering.lga.jobs/en/is-gen-z-the-future-of-engineering>\n",
    "- <a href = https://www.linkedin.com/pulse/understanding-gen-z-engineers-7-tips-hire-motivate-retain-ds1ne/ >\n",
    "- <a href = https://lth.engineering.asu.edu/reference-guide/gen-z/ >"
   ]
  }
 ],
 "metadata": {
  "kernelspec": {
   "display_name": "venv",
   "language": "python",
   "name": "python3"
  },
  "language_info": {
   "codemirror_mode": {
    "name": "ipython",
    "version": 3
   },
   "file_extension": ".py",
   "mimetype": "text/x-python",
   "name": "python",
   "nbconvert_exporter": "python",
   "pygments_lexer": "ipython3",
   "version": "3.12.5"
  }
 },
 "nbformat": 4,
 "nbformat_minor": 2
}
