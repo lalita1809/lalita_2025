{
 "cells": [
  {
   "cell_type": "markdown",
   "metadata": {},
   "source": [
    "---\n",
    "layout: post\n",
    "title: PPT and MC\n",
    "description: Making sure I have an understanding on PPT and MCQ\n",
    "courses: { csp: {week: 12} }\n",
    "comments: true\n",
    "sticky_rank: 1\n",
    "---"
   ]
  },
  {
   "cell_type": "markdown",
   "metadata": {},
   "source": [
    "## 2020 MCQ  and corrections \n",
    "\n",
    "[MCQ reflection link ](https://docs.google.com/document/d/1mSMpCgnnXRmVhblHrmEgABSEHNg9F3uuPitsjxgb8kU/edit?tab=t.0  )"
   ]
  },
  {
   "cell_type": "markdown",
   "metadata": {},
   "source": [
    "## How my feature worked \n",
    "\n",
    "[Video Link](https://drive.google.com/file/d/1_DyIlyqZRIR5gB_Pds63TveoEXJZUmOK/view?usp=sharing )"
   ]
  },
  {
   "cell_type": "markdown",
   "metadata": {},
   "source": [
    "## How my Project Met the CPT requirements \n",
    "\n",
    "### Mastering CPT requriements \n",
    "\n",
    "| CPT   | How I fulfilled  |\n",
    "| -------- | ------- |\n",
    "| Lists  | The database stores and retrieves multiple free-response entries as items in a list.    |\n",
    "| A procedure | The database is initialized with test data to ensure a structured data setup. |\n",
    "| A call to the procedure    | Makes an API request to retrieve data from the backend.    |\n",
    "| Selection   | Verifies and processes data for validity before inserting or updating database records.   |\n",
    "| Iteration  |Loops traverse database entries and frontend responses for processing.   |\n"
   ]
  },
  {
   "cell_type": "markdown",
   "metadata": {},
   "source": [
    "\n",
    "# Application Features Documentation\n",
    "\n",
    "## Lists\n",
    "\n",
    "| CPT   | How I Fulfilled (Images)  |\n",
    "|-------|--------------------------|\n",
    "| **Lists** | The application uses SQLAlchemy to define and manage the relational database. Each free response entry consists of:<br>- **id**: Unique identifier (Primary Key)<br>- **recipe**: The recipe the feedback is associated with<br>- **written feedback**: User’s overall feedback on the project<br><br>![Image](https://github.com/user-attachments/assets/ac7d8eae-d4cd-4110-ac5e-7f6516089829) |\n",
    "\n",
    "## A Procedure\n",
    "\n",
    "| CPT   | How I Fulfilled (Images)  |\n",
    "|-------|--------------------------|\n",
    "| **A Procedure** | The backend implements a function to handle CRUD operations for feedback entries. It includes:<br>- Creating a new feedback entry<br>- Updating an existing entry<br>- Deleting an entry<br>- Fetching all feedback entries<br><br>![Image](https://github.com/user-attachments/assets/ca9f7671-601e-4141-b03f-9ac64c32d9e4) |\n",
    "\n",
    "## A Call to the Procedure\n",
    "\n",
    "| CPT   | How I Fulfilled (Images)  |\n",
    "|-------|--------------------------|\n",
    "| **A Call to the Procedure** | The frontend provides form fields and buttons to interact with feedback operations:<br>- **Form Fields**: Inputs for free response question details<br>- **Buttons**: Create, Update, Delete, Fetch operations<br><br>![Image](https://github.com/user-attachments/assets/575976d2-24f2-41ab-8a96-9306a6c64a80) |\n",
    "\n",
    "## Selection\n",
    "\n",
    "| CPT   | How I Fulfilled (Images)  |\n",
    "|-------|--------------------------|\n",
    "| **Selection** | Users can choose specific feedback entries for operations. The interface includes:<br>- **Form Fields**: Inputs for selecting a specific entry<br>- **Buttons**: Perform CRUD operations on the selected entry<br><br>![Image](https://github.com/user-attachments/assets/575976d2-24f2-41ab-8a96-9306a6c64a80) |\n",
    "\n",
    "## Iteration\n",
    "\n",
    "| CPT   | How I Fulfilled (Images)  |\n",
    "|-------|--------------------------|\n",
    "| **Iteration** | The application loops through database entries and displays them dynamically. This includes:<br>- Iterating over feedback entries to display them<br>- Using loops to process user responses<br><br>![Image](https://github.com/user-attachments/assets/47072d74-97da-4d82-90df-22e9a4d8c27e)<br>![Image](https://github.com/user-attachments/assets/21c6f598-4b45-4f73-8998-60ce3c30a3d0) |\n",
    "\n",
    "\n"
   ]
  },
  {
   "cell_type": "markdown",
   "metadata": {},
   "source": [
    "\n",
    "\n",
    "\n"
   ]
  }
 ],
 "metadata": {
  "language_info": {
   "name": "python"
  }
 },
 "nbformat": 4,
 "nbformat_minor": 2
}
