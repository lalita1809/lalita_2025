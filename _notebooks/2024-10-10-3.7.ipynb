{
 "cells": [
  {
   "cell_type": "markdown",
   "metadata": {},
   "source": [
    "---\n",
    "layout: post\n",
    "title: Popcorn and Homework Hacks for Lessons 3.7\n",
    "description: All homeworks for Lessons\n",
    "courses: { csp: {week: 1} }\n",
    "comments: true\n",
    "sticky_rank: 1\n",
    "---"
   ]
  },
  {
   "cell_type": "code",
   "execution_count": 2,
   "metadata": {},
   "outputs": [
    {
     "name": "stdout",
     "output_type": "stream",
     "text": [
      "You can have a pet!\n"
     ]
    }
   ],
   "source": [
    "age = int(input(\"Enter your age: \"))\n",
    "likes_animals = input(\"Do you like animals? (yes/no): \").lower()\n",
    "\n",
    "if age >= 10:\n",
    "    if likes_animals == \"yes\":\n",
    "        print(\"You can have a pet!\")\n",
    "    else:\n",
    "        print(\"You can't have a pet.\")\n",
    "else:\n",
    "    print(\"You should have a stuffed animal.\")"
   ]
  },
  {
   "cell_type": "code",
   "execution_count": 6,
   "metadata": {},
   "outputs": [
    {
     "name": "stdout",
     "output_type": "stream",
     "text": [
      "You can buy a Horse!\n"
     ]
    }
   ],
   "source": [
    "# Savings\n",
    "savings = 1000  \n",
    "\n",
    "# Laptop prices\n",
    "horse = 800\n",
    "pony = 700\n",
    "show_dog = 1200\n",
    "\n",
    "# Determine which laptop you can buy\n",
    "if savings >= horse:\n",
    "    print(\"You can buy a Horse!\")\n",
    "elif savings >= pony:\n",
    "    print(\"You can buy a Pony!\")\n",
    "elif savings >= show_dog:\n",
    "    print(\"You can buy an Show Dog!\")\n",
    "else:\n",
    "    print(\"You don't have enough money to buy an animal.\")"
   ]
  },
  {
   "cell_type": "code",
   "execution_count": 7,
   "metadata": {
    "vscode": {
     "languageId": "javascript"
    }
   },
   "outputs": [
    {
     "data": {
      "application/javascript": "// Grocery Shopping Conditions\nlet is_store_open = true;         // Boolean value for store status\nlet is_fruits_available = true;   // Boolean value for fruits availability\nlet is_dairy_available = false;   // Boolean value for dairy availability\n\n// Nested conditional logic based on availability\nif (is_store_open) {\n    console.log(\"The store is open, time to shop!\");\n\n    if (is_fruits_available) {\n        console.log(\"Grab some fresh fruits.\");\n        \n        if (is_dairy_available) {\n            console.log(\"Get dairy products as well.\");\n        } else {\n            console.log(\"No dairy available, skip those.\");\n        }\n        \n    } else {\n        console.log(\"No fruits available, check for other items.\");\n    }\n\n} else {\n    console.log(\"The store is closed, try again tomorrow.\");\n}\n",
      "text/plain": [
       "<IPython.core.display.Javascript object>"
      ]
     },
     "metadata": {},
     "output_type": "display_data"
    }
   ],
   "source": [
    "%%javascript\n",
    "// Grocery Shopping Conditions\n",
    "let is_store_open = true;         // Boolean value for store status\n",
    "let is_fruits_available = true;   // Boolean value for fruits availability\n",
    "let is_dairy_available = false;   // Boolean value for dairy availability\n",
    "\n",
    "// Nested conditional logic based on availability\n",
    "if (is_store_open) {\n",
    "    console.log(\"The store is open, time to shop!\");\n",
    "\n",
    "    if (is_fruits_available) {\n",
    "        console.log(\"Grab some fresh fruits.\");\n",
    "        \n",
    "        if (is_dairy_available) {\n",
    "            console.log(\"Get dairy products as well.\");\n",
    "        } else {\n",
    "            console.log(\"No dairy available, skip those.\");\n",
    "        }\n",
    "        \n",
    "    } else {\n",
    "        console.log(\"No fruits available, check for other items.\");\n",
    "    }\n",
    "\n",
    "} else {\n",
    "    console.log(\"The store is closed, try again tomorrow.\");\n",
    "}\n"
   ]
  },
  {
   "cell_type": "code",
   "execution_count": 8,
   "metadata": {
    "vscode": {
     "languageId": "javascript"
    }
   },
   "outputs": [
    {
     "data": {
      "application/javascript": "// Prompt user for their age\nlet age = prompt(\"Enter your age:\");\n\n// Ask if they have a ball (yes/no)\nlet has_ball = prompt(\"Do you have a ball? (yes/no)\").toLowerCase();\n\n// Check eligibility (age >= 5 and has a ball)\nif (age >= 5 && has_ball === \"yes\") {\n    // Determine play group based on age\n    if (age < 8) {\n        console.log(\"You can join the game in the Under 8 group.\");\n    } else {\n        console.log(\"You can join the game in the 8 and older group.\");\n    }\n} else {\n    console.log(\"Sorry, you cannot join the game.\");\n}\n",
      "text/plain": [
       "<IPython.core.display.Javascript object>"
      ]
     },
     "metadata": {},
     "output_type": "display_data"
    }
   ],
   "source": [
    "%%javascript\n",
    "// Prompt user for their age\n",
    "let age = prompt(\"Enter your age:\");\n",
    "\n",
    "// Ask if they have a ball (yes/no)\n",
    "let has_ball = prompt(\"Do you have a ball? (yes/no)\").toLowerCase();\n",
    "\n",
    "// Check eligibility (age >= 5 and has a ball)\n",
    "if (age >= 5 && has_ball === \"yes\") {\n",
    "    // Determine play group based on age\n",
    "    if (age < 8) {\n",
    "        console.log(\"You can join the game in the Under 8 group.\");\n",
    "    } else {\n",
    "        console.log(\"You can join the game in the 8 and older group.\");\n",
    "    }\n",
    "} else {\n",
    "    console.log(\"Sorry, you cannot join the game.\");\n",
    "}\n"
   ]
  }
 ],
 "metadata": {
  "kernelspec": {
   "display_name": "venv",
   "language": "python",
   "name": "python3"
  },
  "language_info": {
   "codemirror_mode": {
    "name": "ipython",
    "version": 3
   },
   "file_extension": ".py",
   "mimetype": "text/x-python",
   "name": "python",
   "nbconvert_exporter": "python",
   "pygments_lexer": "ipython3",
   "version": "3.12.5"
  }
 },
 "nbformat": 4,
 "nbformat_minor": 2
}
