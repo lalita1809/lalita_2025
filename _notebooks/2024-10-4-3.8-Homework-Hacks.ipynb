{
 "cells": [
  {
   "cell_type": "markdown",
   "metadata": {
    "vscode": {
     "languageId": "raw"
    }
   },
   "source": [
    "---\n",
    "layout: post\n",
    "title: Homeworks and Popcorn Hacks for Lessons\n",
    "description: All homeworks for Lessons\n",
    "courses: { csp: {week: 1} }\n",
    "comments: true\n",
    "sticky_rank: 1\n",
    "---"
   ]
  },
  {
   "cell_type": "code",
   "execution_count": 4,
   "metadata": {},
   "outputs": [
    {
     "name": "stdout",
     "output_type": "stream",
     "text": [
      "name Lalita\n",
      "age 17\n",
      "Lalita\n",
      "17\n",
      "name Lalita\n",
      "age 17\n"
     ]
    }
   ],
   "source": [
    "person = {'name': 'Lalita', 'age': 17}\n",
    "\n",
    "# Looping through keys\n",
    "for key in person:\n",
    "    print(key, person[key])\n",
    "\n",
    "# Looping through values\n",
    "for value in person.values():\n",
    "    print(value)\n",
    "\n",
    "# Looping through keys and values\n",
    "for key, value in person.items():\n",
    "    print(key, value)\n",
    "\n"
   ]
  },
  {
   "cell_type": "code",
   "execution_count": 15,
   "metadata": {
    "vscode": {
     "languageId": "javascript"
    }
   },
   "outputs": [
    {
     "data": {
      "application/javascript": "// Task 1: Modified FizzBuzz with a Twist (numbers 50 to 100)\n\nlet i = 50;\n\nwhile (i <= 100) {\n    let output = \"\";\n\n    // Check for multiples of 4 (instead of 3)\n    if (i % 4 === 0) {\n        output += \"Fizz\";\n    }\n    \n    // Check for multiples of 5\n    if (i % 5 === 0) {\n        output += \"Buzz\";\n    }\n    \n    // Check for multiples of 7 (new twist)\n    if (i % 7 === 0) {\n        output += \"Boom\";\n    }\n\n    // If the number isn't divisible by 4, 5, or 7, just print the number\n    if (output === \"\") {\n        output = i;\n    }\n\n    console.log(output);\n    i++;\n}\n",
      "text/plain": [
       "<IPython.core.display.Javascript object>"
      ]
     },
     "metadata": {},
     "output_type": "display_data"
    }
   ],
   "source": [
    "%%javascript\n",
    "// Task 1: Modified FizzBuzz with a Twist (numbers 50 to 100)\n",
    "\n",
    "let i = 50;\n",
    "\n",
    "while (i <= 100) {\n",
    "    let output = \"\";\n",
    "\n",
    "    // Check for multiples of 4 (instead of 3)\n",
    "    if (i % 4 === 0) {\n",
    "        output += \"Fizz\";\n",
    "    }\n",
    "    \n",
    "    // Check for multiples of 5\n",
    "    if (i % 5 === 0) {\n",
    "        output += \"Buzz\";\n",
    "    }\n",
    "    \n",
    "    // Check for multiples of 7 (new twist)\n",
    "    if (i % 7 === 0) {\n",
    "        output += \"Boom\";\n",
    "    }\n",
    "\n",
    "    // If the number isn't divisible by 4, 5, or 7, just print the number\n",
    "    if (output === \"\") {\n",
    "        output = i;\n",
    "    }\n",
    "\n",
    "    console.log(output);\n",
    "    i++;\n",
    "}\n"
   ]
  },
  {
   "cell_type": "code",
   "execution_count": 16,
   "metadata": {
    "vscode": {
     "languageId": "javascript"
    }
   },
   "outputs": [
    {
     "data": {
      "application/javascript": "// Task 2: User Authentication System (do-while loop)\n\nconst correctUsername = \"admin\";\nconst correctPassword = \"password123\";\n\nlet attempts = 3;\nlet username, password;\n\ndo {\n    // Ask for username and password\n    username = prompt(\"Enter your username:\");\n    password = prompt(\"Enter your password:\");\n\n    // Check if credentials are correct\n    if (username === correctUsername && password === correctPassword) {\n        console.log(\"Login successful!\");\n        break;\n    } else {\n        attempts--;\n        console.log(`Incorrect credentials. You have ${attempts} attempt(s) left.`);\n    }\n\n    // If out of attempts, lock the account\n    if (attempts === 0) {\n        console.log(\"Account locked. Too many failed attempts.\");\n        break;\n    }\n} while (attempts > 0);\n",
      "text/plain": [
       "<IPython.core.display.Javascript object>"
      ]
     },
     "metadata": {},
     "output_type": "display_data"
    }
   ],
   "source": [
    "%%javascript\n",
    "// Task 2: User Authentication System (do-while loop)\n",
    "\n",
    "const correctUsername = \"admin\";\n",
    "const correctPassword = \"password123\";\n",
    "\n",
    "let attempts = 3;\n",
    "let username, password;\n",
    "\n",
    "do {\n",
    "    // Ask for username and password\n",
    "    username = prompt(\"Enter your username:\");\n",
    "    password = prompt(\"Enter your password:\");\n",
    "\n",
    "    // Check if credentials are correct\n",
    "    if (username === correctUsername && password === correctPassword) {\n",
    "        console.log(\"Login successful!\");\n",
    "        break;\n",
    "    } else {\n",
    "        attempts--;\n",
    "        console.log(`Incorrect credentials. You have ${attempts} attempt(s) left.`);\n",
    "    }\n",
    "\n",
    "    // If out of attempts, lock the account\n",
    "    if (attempts === 0) {\n",
    "        console.log(\"Account locked. Too many failed attempts.\");\n",
    "        break;\n",
    "    }\n",
    "} while (attempts > 0);\n"
   ]
  },
  {
   "cell_type": "code",
   "execution_count": 10,
   "metadata": {},
   "outputs": [
    {
     "name": "stdout",
     "output_type": "stream",
     "text": [
      "Your To-Do List:\n",
      "1. Finish homework\n",
      "2. Go grocery shopping\n",
      "3. Call a friend\n",
      "4. Read a book\n",
      "5. Work out\n"
     ]
    }
   ],
   "source": [
    "# Step 1: Define your tasks (create a list)\n",
    "tasks = [\"Finish homework\", \"Go grocery shopping\", \"Call a friend\", \"Read a book\", \"Work out\"]\n",
    "\n",
    "# Step 2: Create a function to display the tasks with indices\n",
    "def display_tasks(task_list):\n",
    "    print(\"Your To-Do List:\")\n",
    "    for index, task in enumerate(task_list, start=1):  # start=1 to make the index more user-friendly\n",
    "        print(f\"{index}. {task}\")\n",
    "\n",
    "# Step 3: Call the function to display tasks\n",
    "display_tasks(tasks)\n",
    "\n",
    "\n"
   ]
  },
  {
   "cell_type": "code",
   "execution_count": 13,
   "metadata": {
    "vscode": {
     "languageId": "javascript"
    }
   },
   "outputs": [
    {
     "data": {
      "application/javascript": "// Step 1: Initialize the variable\nlet i = 0;\n\n// Step 2: Create a while loop that increments by 2\nwhile (true) {\n    console.log(i);  // Output the current value of i\n    i += 2;          // Increment by 2\n    \n    // Step 3: Use a break condition (e.g., stop when i reaches or exceeds 20)\n    if (i >= 20) {\n        break;       // Exit the loop\n    }\n}\n\n\n\n\n",
      "text/plain": [
       "<IPython.core.display.Javascript object>"
      ]
     },
     "metadata": {},
     "output_type": "display_data"
    }
   ],
   "source": [
    "%%javascript\n",
    "// Step 1: Initialize the variable\n",
    "let i = 0;\n",
    "\n",
    "// Step 2: Create a while loop that increments by 2\n",
    "while (true) {\n",
    "    console.log(i);  // Output the current value of i\n",
    "    i += 2;          // Increment by 2\n",
    "    \n",
    "    // Step 3: Use a break condition (e.g., stop when i reaches or exceeds 20)\n",
    "    if (i >= 20) {\n",
    "        break;       // Exit the loop\n",
    "    }\n",
    "}\n",
    "\n",
    "\n",
    "\n",
    "\n"
   ]
  }
 ],
 "metadata": {
  "kernelspec": {
   "display_name": "venv",
   "language": "python",
   "name": "python3"
  },
  "language_info": {
   "codemirror_mode": {
    "name": "ipython",
    "version": 3
   },
   "file_extension": ".py",
   "mimetype": "text/x-python",
   "name": "python",
   "nbconvert_exporter": "python",
   "pygments_lexer": "ipython3",
   "version": "3.12.5"
  }
 },
 "nbformat": 4,
 "nbformat_minor": 2
}
