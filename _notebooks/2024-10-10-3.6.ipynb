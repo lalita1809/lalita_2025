{
 "cells": [
  {
   "cell_type": "markdown",
   "metadata": {},
   "source": [
    "---\n",
    "layout: post\n",
    "title: Popcorn and Homework Hacks for Lessons 3.6\n",
    "description: All homeworks for Lessons\n",
    "courses: { csp: {week: 1} }\n",
    "comments: true\n",
    "sticky_rank: 1\n",
    "---"
   ]
  },
  {
   "cell_type": "code",
   "execution_count": 1,
   "metadata": {},
   "outputs": [
    {
     "name": "stdout",
     "output_type": "stream",
     "text": [
      "You failed the test.\n"
     ]
    }
   ],
   "source": [
    "score = 40\n",
    "\n",
    "# Conditional statement\n",
    "if score >= 75:\n",
    "    print(\"You passed the test!\")\n",
    "else:\n",
    "    print(\"You failed the test.\")"
   ]
  },
  {
   "cell_type": "code",
   "execution_count": 2,
   "metadata": {
    "vscode": {
     "languageId": "javascript"
    }
   },
   "outputs": [
    {
     "data": {
      "application/javascript": "let score = 10;\n\n// Conditional statement\nif (score >= 75) {\n    console.log(\"You passed the test!\");\n} else {\n    console.log(\"You failed the test.\");\n}\n",
      "text/plain": [
       "<IPython.core.display.Javascript object>"
      ]
     },
     "metadata": {},
     "output_type": "display_data"
    }
   ],
   "source": [
    "%%js\n",
    "let score = 10;\n",
    "\n",
    "// Conditional statement\n",
    "if (score >= 75) {\n",
    "    console.log(\"You passed the test!\");\n",
    "} else {\n",
    "    console.log(\"You failed the test.\");\n",
    "}"
   ]
  },
  {
   "cell_type": "code",
   "execution_count": 5,
   "metadata": {
    "vscode": {
     "languageId": "javascript"
    }
   },
   "outputs": [
    {
     "name": "stdout",
     "output_type": "stream",
     "text": [
      "You need a house to come in here\n"
     ]
    }
   ],
   "source": [
    "owns_a_house = False\n",
    "\n",
    "if owns_a_house:\n",
    "    print(\"Come on in!\")\n",
    "else:\n",
    "    print(\"You need a house to come in here\")"
   ]
  },
  {
   "cell_type": "code",
   "execution_count": 6,
   "metadata": {
    "vscode": {
     "languageId": "javascript"
    }
   },
   "outputs": [
    {
     "data": {
      "application/javascript": "let flip_coin = Math.random() < 0.5 ? \"Heads\" : \"Tails\";\n\nconsole.log(\"Flipping the coin...\");\nconsole.log(`The coin landed on ${flip_coin}`);\n\nif (flip_coin === \"Heads\") {\n    console.log(\"Nice! It's Heads.\");\n} else {\n    console.log(\"It's Tails. Better luck next time!\");\n}\n",
      "text/plain": [
       "<IPython.core.display.Javascript object>"
      ]
     },
     "metadata": {},
     "output_type": "display_data"
    }
   ],
   "source": [
    "%%js\n",
    "let flip_coin = Math.random() < 0.5 ? \"Heads\" : \"Tails\";\n",
    "\n",
    "console.log(\"Flipping the coin...\");\n",
    "console.log(`The coin landed on ${flip_coin}`);\n",
    "\n",
    "if (flip_coin === \"Heads\") {\n",
    "    console.log(\"Nice! It's Heads.\");\n",
    "} else {\n",
    "    console.log(\"It's Tails. Better luck next time!\");\n",
    "}\n"
   ]
  },
  {
   "cell_type": "code",
   "execution_count": 9,
   "metadata": {},
   "outputs": [
    {
     "name": "stdout",
     "output_type": "stream",
     "text": [
      "Welcome to the General Science Quiz!\n",
      "\n",
      "What planet is known as the Red Planet?\n",
      "1. Earth\n",
      "2. Venus\n",
      "3. Mars\n",
      "4. Jupiter\n",
      "Wrong answer.\n",
      "\n",
      "Which gas do plants absorb from the atmosphere?\n",
      "1. Oxygen\n",
      "2. Carbon Dioxide\n",
      "3. Nitrogen\n",
      "4. Hydrogen\n",
      "Correct!\n",
      "\n",
      "What is the chemical symbol for water?\n",
      "1. HO\n",
      "2. O2\n",
      "3. H2O\n",
      "4. CO2\n",
      "Correct!\n",
      "\n",
      "How many bones are in the adult human body?\n",
      "1. 206\n",
      "2. 210\n",
      "3. 195\n",
      "4. 220\n",
      "Correct!\n",
      "\n",
      "Which planet is the largest in our solar system?\n",
      "1. Mars\n",
      "2. Earth\n",
      "3. Saturn\n",
      "4. Jupiter\n",
      "Invalid input. Please enter a number between 1 and 4.\n",
      "Wrong answer.\n",
      "\n",
      "Your final score is 3/5.\n"
     ]
    }
   ],
   "source": [
    "# Quiz function with input validation\n",
    "def ask_question(question, options, correct_answer):\n",
    "    print(f\"\\n{question}\")\n",
    "    for i, option in enumerate(options, 1):\n",
    "        print(f\"{i}. {option}\")\n",
    "    \n",
    "    while True:  # Keep asking until valid input is given\n",
    "        answer = input(\"Your answer (1-4): \")\n",
    "        if answer.isdigit() and 1 <= int(answer) <= 4:\n",
    "            return int(answer) == correct_answer\n",
    "        else:\n",
    "            print(\"Invalid input. Please enter a number between 1 and 4.\")\n",
    "\n",
    "# Quiz questions, options, and answers\n",
    "questions = [\n",
    "    {\n",
    "        \"question\": \"What planet is known as the Red Planet?\",\n",
    "        \"options\": [\"Earth\", \"Venus\", \"Mars\", \"Jupiter\"],\n",
    "        \"answer\": 3\n",
    "    },\n",
    "    {\n",
    "        \"question\": \"Which gas do plants absorb from the atmosphere?\",\n",
    "        \"options\": [\"Oxygen\", \"Carbon Dioxide\", \"Nitrogen\", \"Hydrogen\"],\n",
    "        \"answer\": 2\n",
    "    },\n",
    "    {\n",
    "        \"question\": \"What is the chemical symbol for water?\",\n",
    "        \"options\": [\"HO\", \"O2\", \"H2O\", \"CO2\"],\n",
    "        \"answer\": 3\n",
    "    },\n",
    "    {\n",
    "        \"question\": \"How many bones are in the adult human body?\",\n",
    "        \"options\": [\"206\", \"210\", \"195\", \"220\"],\n",
    "        \"answer\": 1\n",
    "    },\n",
    "    {\n",
    "        \"question\": \"Which planet is the largest in our solar system?\",\n",
    "        \"options\": [\"Mars\", \"Earth\", \"Saturn\", \"Jupiter\"],\n",
    "        \"answer\": 4\n",
    "    }\n",
    "]\n",
    "\n",
    "# Main quiz game\n",
    "def quiz_game():\n",
    "    score = 0\n",
    "    total_questions = len(questions)\n",
    "    \n",
    "    print(\"Welcome to the General Science Quiz!\")\n",
    "    \n",
    "    for q in questions:\n",
    "        if ask_question(q['question'], q['options'], q['answer']):\n",
    "            print(\"Correct!\")\n",
    "            score += 1\n",
    "        else:\n",
    "            print(\"Wrong answer.\")\n",
    "    \n",
    "    print(f\"\\nYour final score is {score}/{total_questions}.\")\n",
    "\n",
    "# Start the quiz\n",
    "if __name__ == \"__main__\":\n",
    "    quiz_game()\n"
   ]
  }
 ],
 "metadata": {
  "kernelspec": {
   "display_name": "venv",
   "language": "python",
   "name": "python3"
  },
  "language_info": {
   "codemirror_mode": {
    "name": "ipython",
    "version": 3
   },
   "file_extension": ".py",
   "mimetype": "text/x-python",
   "name": "python",
   "nbconvert_exporter": "python",
   "pygments_lexer": "ipython3",
   "version": "3.12.5"
  }
 },
 "nbformat": 4,
 "nbformat_minor": 2
}
