{
 "cells": [
  {
   "cell_type": "markdown",
   "metadata": {
    "vscode": {
     "languageId": "javascript"
    }
   },
   "source": [
    "---\n",
    "layout: post\n",
    "title: Homework Hacks for Lessons 3.2\n",
    "description: All homeworks for Lessons\n",
    "courses: { csp: {week: 1} }\n",
    "comments: true\n",
    "sticky_rank: 1\n",
    "---"
   ]
  },
  {
   "cell_type": "code",
   "execution_count": 1,
   "metadata": {
    "vscode": {
     "languageId": "javascript"
    }
   },
   "outputs": [
    {
     "data": {
      "application/javascript": "\n// Part 1: Profile Information\nlet profile = {\n    name: \"John Doe\",\n    age: 25,\n    city: \"New York\",\n    favorite_color: \"Blue\"\n};\nconsole.log(profile);\n\n// Part 2: List of Hobbies\nlet hobbies = [\"reading\", \"gaming\", \"hiking\"];\nconsole.log(hobbies);\n\n// Part 3: Add Hobbies to Profile\nprofile.hobbies = hobbies;\nconsole.log(profile);\n\n// Part 4: Check Availability of a Hobby\nlet has_hobby = true; // Assuming \"hiking\" is available today\nconsole.log(`Is hiking available today? ${has_hobby}`);\n\n// Part 5: Total Number of Hobbies\nlet total_hobbies = hobbies.length;\nconsole.log(`I have ${total_hobbies} hobbies.`);\n\n// Part 6: Favorite Hobbies\nlet favorite_hobbies = [\"reading\", \"gaming\"];\nconsole.log(favorite_hobbies);\n\n// Part 7: Add a New Item (Set of Skills)\nlet skills = new Set([\"coding\", \"public speaking\", \"problem solving\"]);\nconsole.log(skills);\n\n// Part 8: New Skill (None)\nlet new_skill = null;\nconsole.log(new_skill);\n\n// Part 9: Calculate Total Profile Cost\nlet total_cost = (total_hobbies * 5) + (skills.size * 10);\nconsole.log(`Total cost to develop hobbies and skills: $${total_cost}`);\n",
      "text/plain": [
       "<IPython.core.display.Javascript object>"
      ]
     },
     "metadata": {},
     "output_type": "display_data"
    }
   ],
   "source": [
    "%%javascript\n",
    "\n",
    "\n",
    "let profile = {\n",
    "    name: \"Lalita\",\n",
    "    age: 17,\n",
    "    city: \"San Diego\",\n",
    "    favorite_color: \"Black\"\n",
    "};\n",
    "console.log(profile);\n",
    "\n",
    "\n",
    "let hobbies = [\"reading\", \"going to the beach\", \"biking\"];\n",
    "console.log(hobbies);\n",
    "\n",
    "\n",
    "profile.hobbies = hobbies;\n",
    "console.log(profile);\n",
    "\n",
    "\n",
    "let has_hobby = true; \n",
    "console.log(`Is hiking available today? ${has_hobby}`);\n",
    "\n",
    "\n",
    "let total_hobbies = hobbies.length;\n",
    "console.log(`I have ${total_hobbies} hobbies.`);\n",
    "\n",
    "\n",
    "let favorite_hobbies = [\"reading\", \"gaming\"];\n",
    "console.log(favorite_hobbies);\n",
    "\n",
    "\n",
    "let skills = new Set([\"coding\", \"public speaking\", \"problem solving\"]);\n",
    "console.log(skills);\n",
    "\n",
    "\n",
    "let new_skill = null;\n",
    "console.log(new_skill);\n",
    "\n",
    "\n",
    "let total_cost = (total_hobbies * 5) + (skills.size * 10);\n",
    "console.log(`Total cost to develop hobbies and skills: $${total_cost}`);\n"
   ]
  },
  {
   "cell_type": "code",
   "execution_count": 1,
   "metadata": {},
   "outputs": [
    {
     "name": "stdout",
     "output_type": "stream",
     "text": [
      "Hobbies list:\n",
      "reading\n",
      "hiking\n",
      "painting\n",
      "Updated profile with hobbies: {'name': 'Lalita', 'age': 17, 'city': 'San Diego', 'favorite_color': 'Black', 'hobbies': ['reading', 'hiking', 'painting']}\n",
      "Is hiking available today? True\n",
      "I have 3 hobbies.\n",
      "Favorite hobbies: ('reading', 'hiking')\n",
      "Skills set: {'coding', 'public speaking', 'graphic design'}\n",
      "New skill (undecided): learning\n",
      "Total cost to develop hobbies and skills: $45.00\n"
     ]
    }
   ],
   "source": [
    "\n",
    "profile = dict(name=\"Lalita\", age=17, city=\"San Diego\", favorite_color=\"Black\")\n",
    "\n",
    "\n",
    "hobbies = [\"reading\", \"hiking\", \"painting\"]\n",
    "print(\"Hobbies list:\")\n",
    "for hobby in hobbies:\n",
    "    print(hobby)\n",
    "\n",
    "\n",
    "profile.update({\"hobbies\": hobbies})\n",
    "print(\"Updated profile with hobbies:\", profile)\n",
    "\n",
    "\n",
    "is_available_today = \"hiking\"\n",
    "has_hobby = True if is_available_today == \"hiking\" else False\n",
    "print(f\"Is {is_available_today} available today? {has_hobby}\")\n",
    "\n",
    "\n",
    "total_hobbies = len(hobbies)\n",
    "print(f\"I have {total_hobbies} hobbies.\")\n",
    "\n",
    "\n",
    "favorite_hobbies = tuple(hobbies[:2])  \n",
    "print(\"Favorite hobbies:\", favorite_hobbies)\n",
    "\n",
    "\n",
    "skills = set([\"coding\", \"public speaking\", \"graphic design\"])\n",
    "print(\"Skills set:\", skills)\n",
    "\n",
    "new_skill = None if not skills else \"learning\"\n",
    "print(\"New skill (undecided):\", new_skill)\n",
    "\n",
    "total_cost = sum(map(lambda x: 5, hobbies)) + sum(map(lambda x: 10, skills))\n",
    "print(f\"Total cost to develop hobbies and skills: ${total_cost:.2f}\")\n"
   ]
  }
 ],
 "metadata": {
  "kernelspec": {
   "display_name": "venv",
   "language": "python",
   "name": "python3"
  },
  "language_info": {
   "codemirror_mode": {
    "name": "ipython",
    "version": 3
   },
   "file_extension": ".py",
   "mimetype": "text/x-python",
   "name": "python",
   "nbconvert_exporter": "python",
   "pygments_lexer": "ipython3",
   "version": "3.12.5"
  }
 },
 "nbformat": 4,
 "nbformat_minor": 2
}
