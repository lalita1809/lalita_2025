{
 "cells": [
  {
   "cell_type": "markdown",
   "metadata": {},
   "source": [
    "---\n",
    "layout: post\n",
    "title: Final Trimester 2 blog \n",
    "description: My Trimester 2 Accomplishments \n",
    "courses: { csp: {week: 1} }\n",
    "comments: true\n",
    "sticky_rank: 1\n",
    "---"
   ]
  },
  {
   "cell_type": "markdown",
   "metadata": {},
   "source": [
    "# Exploring the Event: Projects and Experiences\n",
    "\n",
    "## 1. Poseidon Project: A CSP Chatbot\n",
    "One of the most intriguing projects from the event was the **Poseidon Project**, a CSP project featuring an interactive chatbot. This chatbot allowed users to ask various questions, providing responses in real-time. It demonstrated the potential of AI-powered assistants in education and daily tasks\n",
    "\n",
    "![Posiden Project(trying and testing it out)](https://github.com/user-attachments/assets/6f0548de-95b3-4a7a-978b-c24f964d3c4c)\n",
    "![The outline of the project](https://github.com/user-attachments/assets/c3590899-aef0-4475-ae82-87945966593e)\n",
    "\n",
    "## 2. Binary Conversion Game: A CSA Project\n",
    "Another exciting project was the **Binary Conversion Game**, a CSA project designed to help users practice converting binary numbers into decimal. The game provided different levels of difficulty and kept track of high scores, making learning both fun and competitive.\n",
    "![The outline of the game](https://github.com/user-attachments/assets/b7bab5e6-9954-46ef-a383-26cbaad438e0)\n",
    "![Me giving feedback for the project](https://github.com/user-attachments/assets/8e857fb0-36ba-485f-9240-bfd0dabf7e98)\n",
    "\n",
    "## 3. National Parks Finder: A CSP Project\n",
    "The **National Parks Finder** was a CSP project that showcased an interactive website where users could explore various national parks, including Redwood National Park. The interface was visually appealing, featuring images, descriptions, and categories for different parks. This project highlighted the importance of web development in making information accessible and engaging.\n",
    "![the outline of this project](https://github.com/user-attachments/assets/f768f72d-2920-4438-ae09-303e1d340a61)\n",
    "![giving feedback](https://github.com/user-attachments/assets/48c91673-0ba4-4ff5-b09c-330366d29f82)\n",
    "\n",
    "## 4. Stock Market Simulator: A CSA Project\n",
    "One of the standout projects was the **Stock Market Simulator**, a CSA project that captured the complexities of trading. The interface was sleek, and the real-time data made it feel like a genuine trading platform. With further development, this could become an invaluable educational tool for aspiring investors.\n",
    "![giving feedback](https://github.com/user-attachments/assets/60fd78fa-ba9b-4482-bcb1-393ae8184e61)\n",
    "## Feedback Highlights:\n",
    "\n",
    "\n",
    "### Creative and well-organized site\n",
    "\n",
    "- \"Your website is a really creative idea! The way everything is laid out makes it easy to navigate and enjoyable to use.\"\n",
    "\n",
    "### Improvements needed in functionality\n",
    "\n",
    "- \"While the site looks great, it needs some work on how it actually functions. Some features were not as intuitive as expected.\"\n",
    "\n",
    "### The interest-based chatroom is a fantastic idea\n",
    "\n",
    "- \"The idea of an interest-based chatroom is really cool, and I love how it connects people. If the interface were a bit smoother, it would be even better.\"\n",
    "\n",
    "### Future enhancements like better user guidance\n",
    "\n",
    "- \"Adding a tutorial or help section would be beneficial for new users.\"\n",
    "\n",
    "As the Assistant Scrum Master, I am very proud of how far our group has come in improving our website so much. However, I am also extremely excited about what more we can do! There is always room for growth, and I can’t wait to see how our project continues to evolve.\n",
    "\n",
    "## Observations from Other Blogs\n",
    "\n",
    "- As I explored blogs from other students covering N@TM, a few elements stood out:\n",
    "\n",
    "-  Clear Explanations: Projects with concise, well-explained descriptions were more engaging.\n",
    "\n",
    "- User Testimonials: Some blogs included feedback from visitors, adding credibility and engagement.\n",
    "\n",
    "- Visual Elements: The use of images, GIFs, and videos made projects come to life.\n",
    "\n",
    "# Future Applications and Enhancements\n",
    "Looking ahead, the projects from N@TM have immense real-world potential. Here are some ideas for the future:\n",
    "- **Developing the Stock Market Simulator** into a comprehensive educational platform.\n",
    "- **Enhancing the Discord Basement Simulator** with new levels and multiplayer features.\n",
    "- **Expanding the Poseidon chatbot** to support voice recognition and advanced AI responses.\n",
    "- **Improving the Binary Conversion Game** by adding more number systems like octal and hexadecimal.\n",
    "- **Enhancing the National Parks Finder** with real-time weather data and travel recommendations.\n",
    "\n",
    "# Personal Reflection on Night at the Museum\n",
    "I really enjoyed this event for these two major reasons:\n",
    "1. **Seeing what CSP students are creating** and witnessing the unique experiences they have, especially as most of them are first-time coders.\n",
    "2. **Learning from our peers in CSA**, discussing what the course has in store for us, and gaining tips and tricks to succeed.\n",
    "\n",
    "## Gaining Feedback from other people\n",
    "\n",
    "![Image](https://github.com/user-attachments/assets/df030527-032d-41ac-a97c-62dd117bd3fa)\n"
   ]
  },
  {
   "cell_type": "markdown",
   "metadata": {},
   "source": [
    "## 2020 MCQ  and corrections \n",
    "\n",
    "[MCQ reflection link ](https://docs.google.com/document/d/1mSMpCgnnXRmVhblHrmEgABSEHNg9F3uuPitsjxgb8kU/edit?tab=t.0  )"
   ]
  },
  {
   "cell_type": "markdown",
   "metadata": {},
   "source": [
    "## Project Feature \n",
    "\n",
    "### Some accomplishments with my feature that I have worked at this trimester \n",
    "\n",
    "-  Dealing with my first main debugging issue with the 500 internal server error when getting started with CRUD. This took a good week and a half to solve, but finally what I realized was my issue was no more than not paying attention to the small details and having an excess amount of files, which led me to make sure naming consistently and looking for duplicates in every step of the process is crucial\n",
    "\n",
    "\n",
    "- Getting all my CRUD to work, even within the time crunch due to my server error \n",
    "\n",
    "\n",
    "- Debugging CROS and principle errors in the front end, this also took another week in order to solve, getting my CRUD to actually work in the front end. Asking for help from all my peers and the teachers consistently taught me to never be afraid to ask if something isn't working, because each person's input slowly and slowly led to my being able to solve my issue. I also got more experience actually debugging with inspect and UI development\n",
    "\n",
    "\n",
    "- Learning how to deploy my website and using Cockpit in order to be able to see the data being inputted and stored into the database, when users input information through the deployed website\n",
    "\n",
    "\n",
    "- getting my feature to be fully functional with all crud parts working, and expanding on the UI development with my peers to make the website more appealing to users\n",
    "\n",
    "\n"
   ]
  },
  {
   "cell_type": "markdown",
   "metadata": {},
   "source": [
    "### Example of API Implementation(Update) \n",
    "\n",
    "![Image](https://github.com/user-attachments/assets/a148872a-bd1f-464b-9281-588b0c598142)\n",
    "\n",
    "\n"
   ]
  },
  {
   "cell_type": "markdown",
   "metadata": {},
   "source": [
    "### Database management \n",
    "\n",
    "The application uses SQLAlchemy to define and manage the relational database. Each free response entry consists of:\n",
    "\n",
    "id: Unique identifier (Primary Key).\n",
    "recipe: the recipe of the feedback the user giving to.\n",
    "written feedback: User’s overall feedback, to the overall project.\n",
    "\n",
    "![Image](https://github.com/user-attachments/assets/ac7d8eae-d4cd-4110-ac5e-7f6516089829)"
   ]
  },
  {
   "cell_type": "markdown",
   "metadata": {},
   "source": [
    "### Data Initialization:\n",
    "\n",
    "![Image](https://github.com/user-attachments/assets/ca9f7671-601e-4141-b03f-9ac64c32d9e4)"
   ]
  },
  {
   "cell_type": "markdown",
   "metadata": {},
   "source": [
    "### Restoring Data from Backup \n",
    "\n",
    "![Image](https://github.com/user-attachments/assets/47072d74-97da-4d82-90df-22e9a4d8c27e)"
   ]
  },
  {
   "cell_type": "markdown",
   "metadata": {},
   "source": [
    "### Frontend (JavaScript & HTML)\n",
    "The frontend provides a user-friendly wesite that enables users to interact with feedback already in the datavase It includes:\n",
    "\n",
    "Form Fields: Inputs for free response question details.\n",
    "Buttons: Create, Update, Delete, Fetch operations.\n",
    "\n",
    "![Image](https://github.com/user-attachments/assets/575976d2-24f2-41ab-8a96-9306a6c64a80)\n"
   ]
  },
  {
   "cell_type": "markdown",
   "metadata": {},
   "source": [
    "The frontend provides a user-friendly wesite that enables users to interact with feedback already in the datavase It includes:\n",
    "\n",
    "Form Fields: Inputs for free response question details.\n",
    "Buttons: Create, Update, Delete, Fetch operations.\n",
    "\n",
    "![Image](https://github.com/user-attachments/assets/575976d2-24f2-41ab-8a96-9306a6c64a80)\n"
   ]
  },
  {
   "cell_type": "markdown",
   "metadata": {},
   "source": [
    "### Mastering CPT requriements \n",
    "\n",
    "| CPT   | How I fulfilled  |\n",
    "| -------- | ------- |\n",
    "| Lists  | The database stores and retrieves multiple free-response entries as items in a list.    |\n",
    "| A procedure | The database is initialized with test data to ensure a structured data setup. |\n",
    "| A call to the procedure    | Makes an API request to retrieve data from the backend.    |\n",
    "| Selection   | Verifies and processes data for validity before inserting or updating database records.   |\n",
    "| Iteration  |Loops traverse database entries and frontend responses for processing.   |\n",
    "\n"
   ]
  },
  {
   "cell_type": "markdown",
   "metadata": {},
   "source": [
    "## Self Grading \n",
    "\n",
    "### For assigments \n",
    "\n",
    "| Teacher Grade | Self Grade | Reason |\n",
    "|----------|----------|----------|\n",
    "| Full Stack: 0.7   | .85   | The reason I believe that I deserve a .85 is because I worked so hard on trying to get all my CRUD to work, coming in early with Mr.Mortenson, and then working with my peers and family friends. I know I didn't do it on time which is why I do not think I deserve a .9.  |\n",
    "| FE to BE checkin point: 0.7   | .91  | I think the reason I deserve this grade is because my breakpoint did work and we even used these breakpoints, to debug further errors in my code when I had issues with crud.  |\n",
    "\n",
    "### Self Grade for the Final \n",
    "\n",
    "| Night of the Museum | 5 things you did over 12 weeks, Issues, burndown, presentation| 4.75/5| I believe I deserve a 4.75 on this section, because I accomplished so much this tri, when a lot of my CRUD and frontend issues, and even after overcoming these issues my feature was used the most at the end of the day during night at the museum, in order to write back feedback, and even with the shortened time I had to make my feature perform the way that it did I believe and I was very organized using the konvon board, and issues to make my burn down lists I think I should get a .95 on this section of the review. |\n",
    "|----------|----------|----------|----------|\n",
    "|  Full Stack Project Demo | including CPT requirement highlights, and N@tM feedback  | 1.8/2   | I believe I deserve a 1.8 on this section because I met all of the CPT requirments, and the N@tM feedback showcased how we made sure our website was organized and very creative, but there were issues on how people should use the website so because of that I do think we need to improve.    |\n",
    "| Project Feature blog write up  | using CPT/FRQ language  | 1.7/2   | I think I did a very detailed and well job of explaining everything in my blog, it shows my improvement throughout this trimester, but I definetely need to work on my langauge, making it more algined with college boards language, and I can always improve upon that.   |\n",
    "| MCQ   | 2020 Collegeboard mcq  | 1/1  | I did the MCQ the first 2 days it was assigned and I gave full length explanations for every mistake, so I can go back and look at it for future references   |\n",
    "\n",
    "### 10th point \n",
    "\n",
    "- I took a look a varety of different projects, and gave feedback to each project(as shown above), and I also worked with Manas and reviewed his project, and blog. Through looking at other people's projects I realized we could make vast improvements, such as our asthetics of our website, and maybe making a better \"what out website is about\" page and maybe make a directions video to showcase how we can use our website \n",
    "\n",
    "- I practiced with Joanna, Manas, and a former student Anagha with my blog and presentation in order to gets tips and improvements on my blog, with what exactly I should show and tell during this review and how I could make improvements in this blog(ex. the tables for more organzation was one of the tips)\n",
    "\n",
    "\n",
    " Interests and Career Path\n",
    "- Interested in computational biology, merging biology and computer science.\n",
    "- Expect to work primarily with backend tools (databases, algorithms, bioinformatics pipelines).\n",
    "- Goal: Gain proficiency in backend development to contribute effectively to research.\n",
    "\n",
    " Academic Plans\n",
    "- Take courses in:\n",
    "  - Algorithms, machine learning, and data science.\n",
    "  - Biology-related subjects (genetics, biostatistics).\n",
    "  - Database management and cloud computing.\n",
    "- Pursue internships in biotech companies or research labs.\n",
    "\n",
    " Strengths and Weaknesses:\n",
    " \n",
    " Strengths:\n",
    "- Perseverance and willingness to seek help when needed.\n",
    "- Hardworking, even if starting at a lower level.\n",
    "- Significant improvement in independent work this trimester.\n",
    "\n",
    "Weaknesses:\n",
    "- Easily stressed, impacting efficiency and decision-making.\n",
    "- Overlooking small details, leading to larger problems.\n",
    "- Need to improve debugging and attention to detail.\n",
    "\n",
    "Reflection on Project and Next Steps\n",
    "- Learned the importance of both teamwork and independence.\n",
    "- Moving forward, I plan to:\n",
    "  - Continue strengthening backend development skills.\n",
    "  - Improve attention to detail through structured debugging.\n",
    "  - Manage stress with better time management.\n",
    "  - Seek internships aligned with career goals.\n",
    "\n",
    "\n",
    "### Overall Grade: 9.45/10\n",
    "\n",
    "\n",
    "\n",
    "\n"
   ]
  }
 ],
 "metadata": {
  "language_info": {
   "name": "python"
  }
 },
 "nbformat": 4,
 "nbformat_minor": 2
}
