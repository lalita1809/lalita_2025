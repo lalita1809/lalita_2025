{
 "cells": [
  {
   "cell_type": "markdown",
   "metadata": {},
   "source": [
    "---\n",
    "layout: post\n",
    "title: Check In for Sprint 5 blog\n",
    "description: CrowdSourcing \n",
    "courses: { csp: {week: 1} }\n",
    "comments: true\n",
    "sticky_rank: 1\n",
    "---"
   ]
  },
  {
   "cell_type": "code",
   "execution_count": 3,
   "metadata": {},
   "outputs": [
    {
     "name": "stdout",
     "output_type": "stream",
     "text": [
      "Shift Used: 3\n",
      "Result: kl\n"
     ]
    }
   ],
   "source": [
    "import random\n",
    "\n",
    "def caesar_cipher(text, shift, mode):\n",
    "    result = \"\"\n",
    "    for char in text:\n",
    "        if char.isalpha():  # This part of the code only encrypts letters\n",
    "            shift_amount = shift if mode == \"encrypt\" else -shift\n",
    "            new_char = chr(((ord(char.lower()) - 97 + shift_amount) % 26) + 97)\n",
    "            result += new_char.upper() if char.isupper() else new_char\n",
    "        else:\n",
    "            result += char  # this keeps the spaces and position unchanged\n",
    "    return result\n",
    "\n",
    "# Here is the code for getting the user input\n",
    "mode = input(\"Do you want to encrypt or decrypt? \").strip().lower()\n",
    "message = input(\"Enter your message: \")\n",
    "shift_input = input(\"Enter shift value (number of places to shift or 'random'): \").strip().lower()\n",
    "\n",
    "# Generate a random shift if user inputs 'random'\n",
    "shift = random.randint(1, 25) if shift_input == \"random\" else int(shift_input)\n",
    "\n",
    "# And finally, the code performs the encryption/decryption\n",
    "output = caesar_cipher(message, shift, mode)\n",
    "print(f\"Shift Used: {shift}\")\n",
    "print(f\"Result: {output}\")\n"
   ]
  }
 ],
 "metadata": {
  "language_info": {
   "name": "python"
  }
 },
 "nbformat": 4,
 "nbformat_minor": 2
}
