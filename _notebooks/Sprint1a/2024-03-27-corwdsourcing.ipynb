{
 "cells": [
  {
   "cell_type": "markdown",
   "metadata": {},
   "source": [
    "---\n",
    "layout: post\n",
    "title: Binary Team Teach \n",
    "description: What is Binary Search Algorithm?\n",
    "categories: [Python]\n",
    "author: Lalita, Rhea, Rowan, Joanna \n",
    "---"
   ]
  },
  {
   "cell_type": "markdown",
   "metadata": {},
   "source": [
    "### Popcorn 1\n",
    "\n",
    "Crowdsourcing involves gathering ideas, services, or contributions from a large group of people, typically via the internet, to drive innovation. Different types, such as idea crowdsourcing, microtasking, crowdfunding, open collaboration, and data crowdsourcing, help solve problems efficiently by leveraging diverse perspectives and collective intelligence.\n",
    "\n",
    "### Popcorn 2\n",
    "\n",
    "Data crowdsourcing is the process of gathering large amounts of data from the public, often through voluntary contributions, to support research, innovation, and open-source development. It enables the creation of public datasets that drive advancements in technology, artificial intelligence, and scientific research.\n",
    "\n",
    "Examples of public datasets created through crowdsourcing:\n",
    "1. **Wikipedia** – A vast, openly editable knowledge base contributed by volunteers worldwide.\n",
    "2. **OpenStreetMap (OSM)** – A user-generated map database used in navigation apps and geographic research.\n",
    "3. **Zooniverse** – A citizen science platform where users help classify astronomical, biological, and historical data.\n",
    "\n",
    "\n",
    "### Popcorn 3\n",
    "\n",
    "Distributed computing leverages crowdsourcing by utilizing the processing power of multiple computers worldwide to solve complex problems, enabling breakthroughs in science and technology. Examples include **SETI@home** (search for extraterrestrial life), **Folding@home** (protein folding research for disease treatments), and **BOINC** (a platform supporting various scientific computing projects).\n",
    "\n",
    "\n",
    "### homework hack\n",
    "\n",
    "\n",
    "Crowdsourcing has become a powerful tool in modern innovation by leveraging the collective intelligence of individuals worldwide to solve complex problems efficiently. Various forms of crowdsourcing, such as idea crowdsourcing, microtasking, crowdfunding, and data crowdsourcing, enable businesses, researchers, and developers to access a vast pool of resources and insights. Distributed computing further enhances these efforts by allowing multiple computers to work together on computationally intensive tasks, as seen in projects like Folding@home and BOINC. Additionally, data crowdsourcing has significantly contributed to open-source development, with platforms like OpenStreetMap and Wikipedia providing valuable publicly accessible knowledge and resources.\n",
    "\n",
    "Looking ahead, crowdsourcing has the potential to drive even greater innovation by integrating with AI and blockchain technologies, making collaboration more efficient, transparent, and scalable.\n",
    "\n",
    "\n",
    "\n"
   ]
  }
 ],
 "metadata": {
  "language_info": {
   "name": "python"
  }
 },
 "nbformat": 4,
 "nbformat_minor": 2
}
