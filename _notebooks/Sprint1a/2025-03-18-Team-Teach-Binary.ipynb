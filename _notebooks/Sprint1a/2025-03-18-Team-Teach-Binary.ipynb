{
 "cells": [
  {
   "cell_type": "markdown",
   "metadata": {},
   "source": [
    "---\n",
    "layout: post\n",
    "title: Binary Team Teach \n",
    "description: What is Binary Search Algorithm?\n",
    "categories: [Python]\n",
    "author: Lalita, Rhea, Rowan, Joanna \n",
    "---"
   ]
  },
  {
   "cell_type": "markdown",
   "metadata": {},
   "source": [
    "# 🔍 Team Teach: Binary Search\n",
    "\n",
    "## 📘 What is Binary Search?\n",
    "\n",
    "**Binary Search** is a fast and efficient algorithm used to find an element in a **sorted** list.  \n",
    "It works by **repeatedly dividing the search range in half**:\n",
    "\n",
    "1. Start with the entire list.\n",
    "2. Look at the **middle element**.\n",
    "3. Compare it to your **target**:\n",
    "   - ✅ If it matches → you're done!\n",
    "   - ◀️ If the target is **less than** the middle → search the **left half**.\n",
    "   - ▶️ If the target is **greater than** the middle → search the **right half**.\n",
    "4. Repeat until the element is found or the list is exhausted.\n",
    "\n",
    "---\n",
    "\n",
    "## ⏱️ Time Complexity\n",
    "\n",
    "| Case         | Time Complexity |\n",
    "|--------------|-----------------|\n",
    "| 🔹 Best      | O(1)            |\n",
    "| 🔸 Average   | O(log n)        |\n",
    "| 🔻 Worst     | O(log n)        |\n",
    "\n",
    "---\n",
    "\n",
    "## 📚 Real-Life Example\n",
    "\n",
    "Imagine you're using a **dictionary** to look up the word `\"Binary\"`:\n",
    "\n",
    "1. Open the dictionary to the **middle**.\n",
    "2. Check the word:\n",
    "   - If it's `\"Binary\"` → 🎉 found it!\n",
    "   - If `\"Binary\"` comes **before** it → search the **left** half.\n",
    "   - If `\"Binary\"` comes **after** it → search the **right** half.\n",
    "3. Repeat until you find the word.\n",
    "\n",
    "This mirrors how binary search works!\n",
    "\n",
    "---\n",
    "\n",
    "## 🧠 Summary\n",
    "\n",
    "- ✅ Binary search is a **fast search algorithm** that only works on **sorted lists**.\n",
    "- ✂️ It cuts the search space in **half with each step**, making it very efficient.\n",
    "- 🚀 Used in real-world scenarios like:\n",
    "  - Dictionaries 📖\n",
    "  - Phone books ☎️\n",
    "  - Memory allocation 🧠\n",
    "\n",
    "Mastering binary search helps you build more efficient programs and solve problems faster!\n"
   ]
  },
  {
   "cell_type": "code",
   "execution_count": 11,
   "metadata": {},
   "outputs": [
    {
     "name": "stdout",
     "output_type": "stream",
     "text": [
      "3\n"
     ]
    }
   ],
   "source": [
    "### Python Example\n",
    "\n",
    "def binary_search(arr, target):\n",
    "    left, right = 0, len(arr) - 1\n",
    "    \n",
    "    while left <= right:\n",
    "        mid = (left + right) // 2\n",
    "        \n",
    "        if arr[mid] == target:\n",
    "            return mid\n",
    "        elif arr[mid] < target:\n",
    "            left = mid + 1\n",
    "        else:\n",
    "            right = mid - 1\n",
    "    \n",
    "    return -1  # Element not found\n",
    "\n",
    "# Example usage\n",
    "numbers = [1, 3, 5, 7, 9, 11, 13]\n",
    "print(binary_search(numbers, 7))  # Output: 3"
   ]
  },
  {
   "cell_type": "code",
   "execution_count": 12,
   "metadata": {
    "vscode": {
     "languageId": "javascript"
    }
   },
   "outputs": [
    {
     "ename": "SyntaxError",
     "evalue": "invalid syntax (1948918038.py, line 1)",
     "output_type": "error",
     "traceback": [
      "  \u001b[36mCell\u001b[39m\u001b[36m \u001b[39m\u001b[32mIn[12]\u001b[39m\u001b[32m, line 1\u001b[39m\n\u001b[31m    \u001b[39m\u001b[31mfunction binarySearch(arr, target) {\u001b[39m\n             ^\n\u001b[31mSyntaxError\u001b[39m\u001b[31m:\u001b[39m invalid syntax\n"
     ]
    }
   ],
   "source": [
    "'Java Script Example'\n",
    "\n",
    "function binarySearch(arr, target) {\n",
    "    let left = 0;\n",
    "    let right = arr.length - 1;\n",
    "    \n",
    "    while (left <= right) {\n",
    "        let mid = Math.floor((left + right) / 2);\n",
    "        \n",
    "        if (arr[mid] === target) {\n",
    "            return mid; // Target found, return index\n",
    "        } else if (arr[mid] < target) {\n",
    "            left = mid + 1; // Search in the right half\n",
    "        } else {\n",
    "            right = mid - 1; // Search in the left half\n",
    "        }\n",
    "    }\n",
    "    \n",
    "    return -1; // Element not found\n",
    "}\n",
    "\n",
    "// Example usage\n",
    "let numbers = [1, 3, 5, 7, 9, 11, 13];\n",
    "console.log(binarySearch(numbers, 7)); // Output: 3\n",
    "console.log(binarySearch(numbers, 4)); // Output: -1 (not found)\n"
   ]
  },
  {
   "cell_type": "markdown",
   "metadata": {},
   "source": [
    "### Popcorn Hack 1\n",
    "\n",
    "1.The Popcorn Bucket Number Guessing Game 🎯\n",
    "\n",
    "Grab a big bucket of popcorn and number each piece from 1 to 50 (or any range).\n",
    "\n",
    "Secretly pick one popcorn piece (say, #23).\n",
    "\n",
    "Ask a friend to find the chosen popcorn using binary search rules:\n",
    "They must always guess the middle number in the remaining range.\n",
    "If the number is too high, they should look lower.\n",
    "If the number is too low, they should look higher.\n",
    "Keep narrowing it down until they find the right piece!\n",
    "\n"
   ]
  },
  {
   "cell_type": "code",
   "execution_count": 13,
   "metadata": {},
   "outputs": [
    {
     "name": "stdout",
     "output_type": "stream",
     "text": [
      "Is it 25?\n",
      "Too high! Searching lower...\n",
      "Is it 12?\n",
      "Too low! Searching higher...\n",
      "Is it 18?\n",
      "Too low! Searching higher...\n",
      "Is it 21?\n",
      "Too low! Searching higher...\n",
      "Is it 23?\n",
      "🎉 Found it! The burnt popcorn is #23. It took 5 guesses.\n"
     ]
    },
    {
     "data": {
      "text/plain": [
       "23"
      ]
     },
     "execution_count": 13,
     "metadata": {},
     "output_type": "execute_result"
    }
   ],
   "source": [
    "def popcorn_guess_game(target, low=1, high=50):\n",
    "    attempts = 0\n",
    "\n",
    "    while low <= high:\n",
    "        mid = (low + high) // 2\n",
    "        print(f\"Is it {mid}?\")  # Simulating a guess\n",
    "\n",
    "        attempts += 1\n",
    "\n",
    "        if mid == target:\n",
    "            print(f\"🎉 Found it! The burnt popcorn is #{mid}. It took {attempts} guesses.\")\n",
    "            return mid\n",
    "        elif mid < target:\n",
    "            print(\"Too low! Searching higher...\")\n",
    "            low = mid + 1  # Narrow search to the right half\n",
    "        else:\n",
    "            print(\"Too high! Searching lower...\")\n",
    "            high = mid - 1  # Narrow search to the left half\n",
    "\n",
    "    print(\"Oh no! The popcorn piece was not found.\")\n",
    "    return -1\n",
    "\n",
    "# Example Usage\n",
    "chosen_popcorn = 23  # The popcorn number that was secretly picked\n",
    "popcorn_guess_game(chosen_popcorn)\n"
   ]
  },
  {
   "cell_type": "markdown",
   "metadata": {},
   "source": [
    "### Popcorn Hack 2 \n",
    "\n",
    "2. The Burnt Popcorn Hunt 🔥\n",
    "How It Works:\n",
    "\n",
    "Make a batch of popcorn but intentionally burn one piece (mark it in some way).\n",
    "Spread the popcorn on a table in a sorted order (e.g., by size or shape).\n",
    "\n",
    "Have a friend find the burnt popcorn using binary search rules:\n",
    "Start in the middle of the batch.\n",
    "If the burnt piece is not found, decide whether it’s in the left or right half.\n",
    "Keep halving the search space until they find it!\n",
    "Lesson: Just like searching in a sorted list, binary search quickly finds an outlier in a structured dataset!\n",
    "\n"
   ]
  },
  {
   "cell_type": "code",
   "execution_count": null,
   "metadata": {},
   "outputs": [],
   "source": [
    "def find_burnt_popcorn(popcorn_batch, burnt_piece):\n",
    "    \"\"\"\n",
    "    Uses binary search to find the burnt popcorn in a sorted batch.\n",
    "    \n",
    "    :param popcorn_batch: A sorted list of popcorn sizes/shapes (integers or strings)\n",
    "    :param burnt_piece: The burnt popcorn piece to find\n",
    "    :return: Index of the burnt popcorn if found, else -1\n",
    "    \"\"\"\n",
    "    left, right = 0, len(popcorn_batch) - 1\n",
    "    attempts = 0\n",
    "\n",
    "    while left <= right:\n",
    "        mid = (left + right) // 2\n",
    "        print(f\"Checking popcorn piece at index {mid}: {popcorn_batch[mid]}\")\n",
    "        attempts += 1\n",
    "\n",
    "        if popcorn_batch[mid] == burnt_piece:\n",
    "            print(f\"🔥 Found the burnt popcorn at index {mid} after {attempts} checks!\")\n",
    "            return mid\n",
    "        elif popcorn_batch[mid] < burnt_piece:\n",
    "            print(\"The burnt popcorn is larger, searching the right half...\")\n",
    "            left = mid + 1  # Search in the right half\n",
    "        else:\n",
    "            print(\"The burnt popcorn is smaller, searching the left half...\")\n",
    "            right = mid - 1  # Search in the left half\n",
    "\n",
    "    print(\"Oh no! The burnt popcorn piece was not found.\")\n",
    "    return -1\n",
    "\n",
    "# Example Usage\n",
    "popcorn_batch = [1, 3, 5, 7, 9, 11, 13, 15, 17]  # Sorted by size/shape\n",
    "burnt_piece = 9  # Let's say the burnt popcorn is size 9\n",
    "\n",
    "find_burnt_popcorn(popcorn_batch, burnt_piece)\n"
   ]
  },
  {
   "cell_type": "markdown",
   "metadata": {},
   "source": [
    "# 🛠 Binary Search Homework Hack: \"The Fold & Find Trick\"\n",
    "\n",
    "## How It Works:\n",
    "1. **Sort the list (if needed).**  \n",
    "2. **Fold the list in half** (mentally split it at the middle).  \n",
    "3. **Check the middle number:**  \n",
    "   - If it’s the target → ✅ **Done!**  \n",
    "   - If it's too small → **Ignore the left half.**  \n",
    "   - If it's too big → **Ignore the right half.**  \n",
    "4. **Repeat until you find the target or run out of numbers.**  \n"
   ]
  },
  {
   "cell_type": "code",
   "execution_count": 14,
   "metadata": {},
   "outputs": [
    {
     "name": "stdout",
     "output_type": "stream",
     "text": [
      "Sorted List: [7, 40, 41, 43, 54, 63, 84, 86, 89, 99]\n",
      "Find the number: 89\n",
      "Checking middle index 4: 54\n",
      "Checking middle index 7: 86\n",
      "Checking middle index 8: 89\n",
      "✅ Found 89 at index 8!\n"
     ]
    },
    {
     "data": {
      "text/plain": [
       "8"
      ]
     },
     "execution_count": 14,
     "metadata": {},
     "output_type": "execute_result"
    }
   ],
   "source": [
    "import random\n",
    "\n",
    "def binary_search_homework_hack():\n",
    "    # Generate a sorted list of numbers for the \"homework\"\n",
    "    arr = sorted(random.sample(range(1, 100), 10))  # Random sorted list\n",
    "    target = random.choice(arr)  # Pick a random target from the list\n",
    "\n",
    "    print(f\"Sorted List: {arr}\")\n",
    "    print(f\"Find the number: {target}\")\n",
    "\n",
    "    left, right = 0, len(arr) - 1\n",
    "\n",
    "    while left <= right:\n",
    "        mid = (left + right) // 2\n",
    "        print(f\"Checking middle index {mid}: {arr[mid]}\")\n",
    "\n",
    "        if arr[mid] == target:\n",
    "            print(f\"✅ Found {target} at index {mid}!\")\n",
    "            return mid\n",
    "        elif arr[mid] < target:\n",
    "            left = mid + 1  # Move to the right half\n",
    "        else:\n",
    "            right = mid - 1  # Move to the left half\n",
    "    \n",
    "    print(\"❌ Number not found.\")\n",
    "    return -1\n",
    "\n",
    "# Run the hack\n",
    "binary_search_homework_hack()\n"
   ]
  },
  {
   "cell_type": "markdown",
   "metadata": {},
   "source": [
    "# 🧠 **Quiz Time: Binary Search**\n",
    "\n",
    "---\n",
    "\n",
    "### **Q1: What is the main advantage of using a binary search over a linear search?**  \n",
    "A) It works on unsorted data  \n",
    "B) It guarantees finding the target in one step  \n",
    "C) It has a faster time complexity, O(log N), compared to linear search’s O(N)  \n",
    "D) It requires no conditions on the dataset  \n",
    "\n",
    "<details>\n",
    "  <summary>✅ Show Answer</summary>\n",
    "  **Correct Answer: C**  \n",
    "  Binary search is more efficient than linear search, with O(log N) time complexity.\n",
    "</details>\n",
    "\n",
    "---\n",
    "\n",
    "### **Q2: Which of the following must be true for binary search to work correctly?**  \n",
    "A) The list must be sorted  \n",
    "B) The list must contain only unique elements  \n",
    "C) The list must be of even length  \n",
    "D) The list must be stored in a linked list  \n",
    "\n",
    "<details>\n",
    "  <summary>✅ Show Answer</summary>\n",
    "  **Correct Answer: A**  \n",
    "  Binary search only works on **sorted** lists.\n",
    "</details>\n",
    "\n",
    "---\n",
    "\n",
    "### **Q3: What is the worst-case time complexity of the binary search algorithm?**  \n",
    "A) O(N)  \n",
    "B) O(log N)  \n",
    "C) O(N log N)  \n",
    "D) O(1)  \n",
    "\n",
    "<details>\n",
    "  <summary>✅ Show Answer</summary>\n",
    "  **Correct Answer: B**  \n",
    "  In the worst case, binary search cuts the list until one element remains — O(log N) comparisons.\n",
    "</details>\n",
    "\n",
    "---\n",
    "\n",
    "### **Q4: Suppose you have a sorted list with 1,000,000 elements. What is the maximum number of comparisons binary search would make in the worst case?**  \n",
    "A) 1,000,000  \n",
    "B) 20  \n",
    "C) 50  \n",
    "D) 100  \n",
    "\n",
    "<details>\n",
    "  <summary>✅ Show Answer</summary>\n",
    "  **Correct Answer: C**  \n",
    "  log₂(1,000,000) ≈ 20, but we round up in worst-case analysis → ~**20 steps**, so **B is correct**.\n",
    "</details>\n",
    "\n",
    "---\n",
    "\n",
    "### **Q5: What happens when a binary search algorithm does not find the target value in the list?**  \n",
    "A) It returns -1 or an indication that the element is not found  \n",
    "B) It returns the closest value in the list  \n",
    "C) It loops indefinitely  \n",
    "D) It automatically sorts the list and tries again  \n",
    "\n",
    "<details>\n",
    "  <summary>✅ Show Answer</summary>\n",
    "  **Correct Answer: A**  \n",
    "  Most implementations return `-1` or some indicator when the value is not found.\n",
    "</details>\n",
    "\n",
    "---\n",
    "\n",
    "### **Q6: Given the sorted list `[3, 8, 15, 20, 25, 30, 35, 40]`, what sequence of middle elements would be checked when searching for `35` using binary search?**  \n",
    "A) 20 → 30 → 35  \n",
    "B) 25 → 35 → 30  \n",
    "C) 30 → 35  \n",
    "D) 15 → 25 → 40  \n",
    "\n",
    "<details>\n",
    "  <summary>✅ Show Answer</summary>\n",
    "  **Correct Answer: A**  \n",
    "  - Middle of full list is **20**  \n",
    "  - Search right half → next middle is **30**  \n",
    "  - Search right again → next middle is **35**\n",
    "</details>\n"
   ]
  }
 ],
 "metadata": {
  "kernelspec": {
   "display_name": "venv",
   "language": "python",
   "name": "python3"
  },
  "language_info": {
   "codemirror_mode": {
    "name": "ipython",
    "version": 3
   },
   "file_extension": ".py",
   "mimetype": "text/x-python",
   "name": "python",
   "nbconvert_exporter": "python",
   "pygments_lexer": "ipython3",
   "version": "3.12.5"
  }
 },
 "nbformat": 4,
 "nbformat_minor": 2
}
