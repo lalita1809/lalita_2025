{
 "cells": [
  {
   "cell_type": "markdown",
   "metadata": {},
   "source": [
    "---\n",
    "layout: post\n",
    "title: Third Tri Team Teaches(Digital Divide, CrowdSourcing, and Safe Computing)\n",
    "description: All homeworks for Lessons\n",
    "courses: { csp: {week: 1} }\n",
    "comments: true\n",
    "sticky_rank: 1\n",
    "---"
   ]
  },
  {
   "cell_type": "markdown",
   "metadata": {},
   "source": [
    "### Popcorn Hack 1 \n",
    "\n",
    "A field where I have observed the digital divide in effect is education. Students from low-income households frequently struggle with access to high-speed internet and personal devices, hindering their ability to finish assignments or participate in virtual classes. Conversely, students from affluent families benefit from superior technology, tutoring, and educational resources, which provide them with a considerable edge. This separation generates disparities in educational results, future prospects, and overall academic achievement. The enduring impacts can maintain cycles of poverty, as digital skills are becoming more crucial for higher education and job opportunities.\n",
    "\n",
    "\n",
    "### Popcorn Hack 2 \n",
    "\n",
    "Facial recognition technology is a computing advancement that may unintentionally marginalize specific groups. This technology has demonstrated biases against individuals with darker skin tones because of insufficient diverse training data. It can also disadvantage individuals lacking government-issued identification, like undocumented immigrants, which makes it more challenging for them to obtain digital services. Moreover, older adults who are not accustomed to this technology may find it difficult to operate systems that depend on facial recognition for security purposes. This exclusion strengthens systemic disparities and restricts chances for communities that are already marginalized\n",
    "\n",
    "\n",
    "### Homework Hack\n",
    "In my community, numerous low-income families lack access to dependable internet, making it challenging for students to finish homework and for adults to seek jobs online. Rural regions encounter connectivity challenges, restricting residents' chances to work remotely, utilize telehealth services, or participate in online education. Public libraries and community centers offer some access to technology, but their hours and resources are frequently limited, creating difficulties for those who require it most. To address this issue, I can increase awareness by talking about these matters with community leaders and promoting enhanced broadband access in underserved regions. Furthermore, I can assist or engage with community initiatives that offer free digital literacy education and accessible technology to individuals who require it.\n",
    "\n"
   ]
  },
  {
   "cell_type": "markdown",
   "metadata": {},
   "source": [
    "### Popcorn 1\n",
    "\n",
    "Crowdsourcing involves gathering ideas, services, or contributions from a large group of people, typically via the internet, to drive innovation. Different types, such as idea crowdsourcing, microtasking, crowdfunding, open collaboration, and data crowdsourcing, help solve problems efficiently by leveraging diverse perspectives and collective intelligence.\n",
    "\n",
    "### Popcorn 2\n",
    "\n",
    "Data crowdsourcing is the process of gathering large amounts of data from the public, often through voluntary contributions, to support research, innovation, and open-source development. It enables the creation of public datasets that drive advancements in technology, artificial intelligence, and scientific research.\n",
    "\n",
    "Examples of public datasets created through crowdsourcing:\n",
    "1. **Wikipedia** – A vast, openly editable knowledge base contributed by volunteers worldwide.\n",
    "2. **OpenStreetMap (OSM)** – A user-generated map database used in navigation apps and geographic research.\n",
    "3. **Zooniverse** – A citizen science platform where users help classify astronomical, biological, and historical data.\n",
    "\n",
    "\n",
    "### Popcorn 3\n",
    "\n",
    "Distributed computing leverages crowdsourcing by utilizing the processing power of multiple computers worldwide to solve complex problems, enabling breakthroughs in science and technology. Examples include **SETI@home** (search for extraterrestrial life), **Folding@home** (protein folding research for disease treatments), and **BOINC** (a platform supporting various scientific computing projects).\n",
    "\n",
    "\n",
    "### homework hack\n",
    "\n",
    "\n",
    "Crowdsourcing has become a powerful tool in modern innovation by leveraging the collective intelligence of individuals worldwide to solve complex problems efficiently. Various forms of crowdsourcing, such as idea crowdsourcing, microtasking, crowdfunding, and data crowdsourcing, enable businesses, researchers, and developers to access a vast pool of resources and insights. Distributed computing further enhances these efforts by allowing multiple computers to work together on computationally intensive tasks, as seen in projects like Folding@home and BOINC. Additionally, data crowdsourcing has significantly contributed to open-source development, with platforms like OpenStreetMap and Wikipedia providing valuable publicly accessible knowledge and resources.\n",
    "\n",
    "Looking ahead, crowdsourcing has the potential to drive even greater innovation by integrating with AI and blockchain technologies, making collaboration more efficient, transparent, and scalable.\n",
    "\n",
    "\n",
    "\n"
   ]
  },
  {
   "cell_type": "markdown",
   "metadata": {},
   "source": [
    "## Safe Computing"
   ]
  },
  {
   "cell_type": "code",
   "execution_count": 1,
   "metadata": {},
   "outputs": [
    {
     "name": "stdout",
     "output_type": "stream",
     "text": [
      "Shift Used: 3\n",
      "Result: kl \n"
     ]
    }
   ],
   "source": [
    "import random\n",
    "\n",
    "def caesar_cipher(text, shift, mode):\n",
    "    result = \"\"\n",
    "    for char in text:\n",
    "        if char.isalpha():  # This part of the code only encrypts letters\n",
    "            shift_amount = shift if mode == \"encrypt\" else -shift\n",
    "            new_char = chr(((ord(char.lower()) - 97 + shift_amount) % 26) + 97)\n",
    "            result += new_char.upper() if char.isupper() else new_char\n",
    "        else:\n",
    "            result += char  # this keeps the spaces and position unchanged\n",
    "    return result\n",
    "\n",
    "# Here is the code for getting the user input\n",
    "mode = input(\"Do you want to encrypt or decrypt? \").strip().lower()\n",
    "message = input(\"Enter your message: \")\n",
    "shift_input = input(\"Enter shift value (number of places to shift or 'random'): \").strip().lower()\n",
    "\n",
    "# Generate a random shift if user inputs 'random'\n",
    "shift = random.randint(1, 25) if shift_input == \"random\" else int(shift_input)\n",
    "\n",
    "# And finally, the code performs the encryption/decryption\n",
    "output = caesar_cipher(message, shift, mode)\n",
    "print(f\"Shift Used: {shift}\")\n",
    "print(f\"Result: {output}\")\n"
   ]
  }
 ],
 "metadata": {
  "kernelspec": {
   "display_name": "venv",
   "language": "python",
   "name": "python3"
  },
  "language_info": {
   "codemirror_mode": {
    "name": "ipython",
    "version": 3
   },
   "file_extension": ".py",
   "mimetype": "text/x-python",
   "name": "python",
   "nbconvert_exporter": "python",
   "pygments_lexer": "ipython3",
   "version": "3.12.5"
  }
 },
 "nbformat": 4,
 "nbformat_minor": 2
}
