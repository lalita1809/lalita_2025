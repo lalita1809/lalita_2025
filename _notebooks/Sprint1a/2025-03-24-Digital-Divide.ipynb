{
 "cells": [
  {
   "cell_type": "markdown",
   "metadata": {},
   "source": [
    "---\n",
    "layout: post\n",
    "title: Third Tri Team Teaches(Digital Divide)\n",
    "description: All homeworks for Lessons\n",
    "courses: { csp: {week: 1} }\n",
    "comments: true\n",
    "sticky_rank: 1\n",
    "---"
   ]
  },
  {
   "cell_type": "markdown",
   "metadata": {},
   "source": [
    "### Popcorn Hack 1 \n",
    "\n",
    "A field where I have observed the digital divide in effect is education. Students from low-income households frequently struggle with access to high-speed internet and personal devices, hindering their ability to finish assignments or participate in virtual classes. Conversely, students from affluent families benefit from superior technology, tutoring, and educational resources, which provide them with a considerable edge. This separation generates disparities in educational results, future prospects, and overall academic achievement. The enduring impacts can maintain cycles of poverty, as digital skills are becoming more crucial for higher education and job opportunities.\n",
    "\n",
    "\n",
    "### Popcorn Hack 2 \n",
    "\n",
    "Facial recognition technology is a computing advancement that may unintentionally marginalize specific groups. This technology has demonstrated biases against individuals with darker skin tones because of insufficient diverse training data. It can also disadvantage individuals lacking government-issued identification, like undocumented immigrants, which makes it more challenging for them to obtain digital services. Moreover, older adults who are not accustomed to this technology may find it difficult to operate systems that depend on facial recognition for security purposes. This exclusion strengthens systemic disparities and restricts chances for communities that are already marginalized\n",
    "\n",
    "\n",
    "### Homework Hack\n",
    "In my community, numerous low-income families lack access to dependable internet, making it challenging for students to finish homework and for adults to seek jobs online. Rural regions encounter connectivity challenges, restricting residents' chances to work remotely, utilize telehealth services, or participate in online education. Public libraries and community centers offer some access to technology, but their hours and resources are frequently limited, creating difficulties for those who require it most. To address this issue, I can increase awareness by talking about these matters with community leaders and promoting enhanced broadband access in underserved regions. Furthermore, I can assist or engage with community initiatives that offer free digital literacy education and accessible technology to individuals who require it.\n",
    "\n"
   ]
  }
 ],
 "metadata": {
  "language_info": {
   "name": "python"
  }
 },
 "nbformat": 4,
 "nbformat_minor": 2
}
