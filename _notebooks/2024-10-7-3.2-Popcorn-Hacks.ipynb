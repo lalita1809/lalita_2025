{
 "cells": [
  {
   "cell_type": "markdown",
   "metadata": {},
   "source": [
    "---\n",
    "layout: post\n",
    "title: Popcorn Hacks for Lessons 3.2\n",
    "description: All homeworks for Lessons\n",
    "courses: { csp: {week: 1} }\n",
    "comments: true\n",
    "sticky_rank: 1\n",
    "---"
   ]
  },
  {
   "cell_type": "code",
   "execution_count": 8,
   "metadata": {},
   "outputs": [
    {
     "name": "stdout",
     "output_type": "stream",
     "text": [
      "bananas\n"
     ]
    }
   ],
   "source": [
    "\n",
    "fruit_dict = {1: 'bananas', 2: 'apples', 3: 'pears'}\n",
    "\n",
    "value = fruit_dict[1]\n",
    "\n",
    "\n",
    "print(value)\n"
   ]
  },
  {
   "cell_type": "code",
   "execution_count": 10,
   "metadata": {
    "vscode": {
     "languageId": "javascript"
    }
   },
   "outputs": [
    {
     "data": {
      "application/javascript": "import java.util.HashMap;\n\npublic class FruitMapping {\n    public static void main(String[] args) {\n        \n        HashMap<Integer, String> fruitMap = new HashMap<>();\n        \n       \n        fruitMap.put(1, \"bananas\");\n        fruitMap.put(2, \"apples\");\n        fruitMap.put(3, \"pears\");\n        \n        \n        String value = fruitMap.get(1);\n        \n        \n        System.out.println(value);\n    }\n}\n",
      "text/plain": [
       "<IPython.core.display.Javascript object>"
      ]
     },
     "metadata": {},
     "output_type": "display_data"
    }
   ],
   "source": [
    "%%javascript\n",
    "import java.util.HashMap;\n",
    "\n",
    "public class FruitMapping {\n",
    "    public static void main(String[] args) {\n",
    "        \n",
    "        HashMap<Integer, String> fruitMap = new HashMap<>();\n",
    "        \n",
    "       \n",
    "        fruitMap.put(1, \"bananas\");\n",
    "        fruitMap.put(2, \"apples\");\n",
    "        fruitMap.put(3, \"pears\");\n",
    "        \n",
    "        \n",
    "        String value = fruitMap.get(1);\n",
    "        \n",
    "        \n",
    "        System.out.println(value);\n",
    "    }\n",
    "}\n"
   ]
  },
  {
   "cell_type": "code",
   "execution_count": 11,
   "metadata": {},
   "outputs": [
    {
     "name": "stdout",
     "output_type": "stream",
     "text": [
      "Result: 0.8\n"
     ]
    }
   ],
   "source": [
    "\n",
    "def calculator(num1, num2, operation):\n",
    "    if operation == '+':\n",
    "        return num1 + num2\n",
    "    elif operation == '-':\n",
    "        return num1 - num2\n",
    "    elif operation == '*':\n",
    "        return num1 * num2\n",
    "    elif operation == '/':\n",
    "        return num1 / num2\n",
    "    else:\n",
    "        return 'Invalid operation'\n",
    "\n",
    "\n",
    "num1 = float(input(\"Enter the first number: \"))\n",
    "num2 = float(input(\"Enter the second number: \"))\n",
    "operation = input(\"Enter the operation (+, -, *, /): \")\n",
    "\n",
    "result = calculator(num1, num2, operation)\n",
    "print(f\"Result: {result}\")\n"
   ]
  },
  {
   "cell_type": "code",
   "execution_count": 12,
   "metadata": {
    "vscode": {
     "languageId": "javascript"
    }
   },
   "outputs": [
    {
     "data": {
      "application/javascript": "// Function for the calculator\nfunction calculator(num1, num2, operation) {\n    switch (operation) {\n        case '+':\n            return num1 + num2;\n        case '-':\n            return num1 - num2;\n        case '*':\n            return num1 * num2;\n        case '/':\n            return num1 / num2;\n        default:\n            return 'Invalid operation';\n    }\n}\n\n// Example of using the calculator function\nconst num1 = parseFloat(prompt(\"Enter the first number: \"));\nconst num2 = parseFloat(prompt(\"Enter the second number: \"));\nconst operation = prompt(\"Enter the operation (+, -, *, /): \");\n\nconst result = calculator(num1, num2, operation);\nconsole.log(`Result: ${result}`);\n",
      "text/plain": [
       "<IPython.core.display.Javascript object>"
      ]
     },
     "metadata": {},
     "output_type": "display_data"
    }
   ],
   "source": [
    "%%javascript\n",
    "\n",
    "function calculator(num1, num2, operation) {\n",
    "    switch (operation) {\n",
    "        case '+':\n",
    "            return num1 + num2;\n",
    "        case '-':\n",
    "            return num1 - num2;\n",
    "        case '*':\n",
    "            return num1 * num2;\n",
    "        case '/':\n",
    "            return num1 / num2;\n",
    "        default:\n",
    "            return 'Invalid operation';\n",
    "    }\n",
    "}\n",
    "\n",
    "\n",
    "const num1 = parseFloat(prompt(\"Enter the first number: \"));\n",
    "const num2 = parseFloat(prompt(\"Enter the second number: \"));\n",
    "const operation = prompt(\"Enter the operation (+, -, *, /): \");\n",
    "\n",
    "const result = calculator(num1, num2, operation);\n",
    "console.log(`Result: ${result}`);\n"
   ]
  },
  {
   "cell_type": "code",
   "execution_count": 2,
   "metadata": {},
   "outputs": [
    {
     "name": "stdout",
     "output_type": "stream",
     "text": [
      "['appleappleapple', 'bananabananabanana', 'pearpearpear']\n"
     ]
    }
   ],
   "source": [
    "def repeat_strings(string_list, n):\n",
    "    return [string * n for string in string_list]\n",
    "\n",
    "\n",
    "strings = [\"apple\", \"banana\", \"pear\"]\n",
    "n = 3\n",
    "result = repeat_strings(strings, n)\n",
    "print(result) \n"
   ]
  },
  {
   "cell_type": "code",
   "execution_count": null,
   "metadata": {
    "vscode": {
     "languageId": "javascript"
    }
   },
   "outputs": [],
   "source": [
    "%%javascript\n",
    "function repeatStrings(stringList, n) {\n",
    "    return stringList.map(string => string.repeat(n));\n",
    "}\n",
    "\n",
    "\n",
    "const strings = [\"apple\", \"banana\", \"pear\"];\n",
    "const n = 3;\n",
    "const result = repeatStrings(strings, n);\n",
    "console.log(result);  \n"
   ]
  },
  {
   "cell_type": "code",
   "execution_count": 14,
   "metadata": {},
   "outputs": [
    {
     "name": "stdout",
     "output_type": "stream",
     "text": [
      "True\n"
     ]
    }
   ],
   "source": [
    "def check_common_values(set1, set2):\n",
    " \n",
    "    return any(value in set1 for value in set2)\n",
    "\n",
    "\n",
    "set1 = {1, 2, 3, 4, 5}\n",
    "set2 = {5, 6, 7}\n",
    "\n",
    "result = check_common_values(set1, set2)\n",
    "print(result)  \n"
   ]
  },
  {
   "cell_type": "code",
   "execution_count": 15,
   "metadata": {
    "vscode": {
     "languageId": "javascript"
    }
   },
   "outputs": [
    {
     "data": {
      "application/javascript": "function checkCommonValues(set1, set2) {\n    // Check if any value in set2 is also in set1\n    for (let value of set2) {\n        if (set1.has(value)) {\n            return true;\n        }\n    }\n    return false;\n}\n\n// Example usage\nconst set1 = new Set([1, 2, 3, 4, 5]);\nconst set2 = new Set([5, 6, 7]);\n\nconst result = checkCommonValues(set1, set2);\nconsole.log(result);  // Output: True\n",
      "text/plain": [
       "<IPython.core.display.Javascript object>"
      ]
     },
     "metadata": {},
     "output_type": "display_data"
    }
   ],
   "source": [
    "%%javascript\n",
    "function checkCommonValues(set1, set2) {\n",
    "   \n",
    "    for (let value of set2) {\n",
    "        if (set1.has(value)) {\n",
    "            return true;\n",
    "        }\n",
    "    }\n",
    "    return false;\n",
    "}\n",
    "\n",
    "\n",
    "const set1 = new Set([1, 2, 3, 4, 5]);\n",
    "const set2 = new Set([5, 6, 7]);\n",
    "\n",
    "const result = checkCommonValues(set1, set2);\n",
    "console.log(result);  \n"
   ]
  }
 ],
 "metadata": {
  "kernelspec": {
   "display_name": "venv",
   "language": "python",
   "name": "python3"
  },
  "language_info": {
   "codemirror_mode": {
    "name": "ipython",
    "version": 3
   },
   "file_extension": ".py",
   "mimetype": "text/x-python",
   "name": "python",
   "nbconvert_exporter": "python",
   "pygments_lexer": "ipython3",
   "version": "3.12.5"
  }
 },
 "nbformat": 4,
 "nbformat_minor": 2
}
