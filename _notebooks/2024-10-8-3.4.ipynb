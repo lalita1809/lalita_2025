{
 "cells": [
  {
   "cell_type": "markdown",
   "metadata": {},
   "source": [
    "---\n",
    "layout: post\n",
    "title: Popcorn and Homework Hacks for Lessons 3.4\n",
    "description: All homeworks for Lessons\n",
    "courses: { csp: {week: 1} }\n",
    "comments: true\n",
    "sticky_rank: 1\n",
    "---"
   ]
  },
  {
   "cell_type": "code",
   "execution_count": 1,
   "metadata": {
    "vscode": {
     "languageId": "javascript"
    }
   },
   "outputs": [
    {
     "data": {
      "application/javascript": "\n\nlet favoriteMovie = \"Black Swab\";\nlet favoriteSport = \"Gymnastics\";\nlet petName = \"Lily\";\n\n\n// Concatenation\nlet concatenatedMessage = \"My favorite movie is \" + favoriteMovie + \". I love playing \" + favoriteSport + \" and my pet's name is \" + petName + \".\";\n\n\n// Interpolation\nlet interpolatedMessage = `My favorite movie is ${favoriteMovie}. I love playing ${favoriteSport} and my pet's name is ${petName}.`;\n",
      "text/plain": [
       "<IPython.core.display.Javascript object>"
      ]
     },
     "metadata": {},
     "output_type": "display_data"
    }
   ],
   "source": [
    "%%js\n",
    "\n",
    "\n",
    "let favoriteMovie = \"Black Swab\";\n",
    "let favoriteSport = \"Gymnastics\";\n",
    "let petName = \"Lily\";\n",
    "\n",
    "\n",
    "// Concatenation\n",
    "let concatenatedMessage = \"My favorite movie is \" + favoriteMovie + \". I love playing \" + favoriteSport + \" and my pet's name is \" + petName + \".\";\n",
    "\n",
    "\n",
    "// Interpolation\n",
    "let interpolatedMessage = `My favorite movie is ${favoriteMovie}. I love playing ${favoriteSport} and my pet's name is ${petName}.`;\n"
   ]
  },
  {
   "cell_type": "code",
   "execution_count": 2,
   "metadata": {
    "vscode": {
     "languageId": "javascript"
    }
   },
   "outputs": [
    {
     "data": {
      "application/javascript": "\n\n// Define string\nlet phrase = \"Time can only tell\";\n\n\n// Extraction\nlet partOne = phrase.slice(2, 8);\nlet partTwo = phrase.slice(-18, -12);\nlet remainder = phrase.slice(20);\n\n\n// Output\nconsole.log(partOne);  \nconsole.log(partTwo);  \nconsole.log(remainder); \n",
      "text/plain": [
       "<IPython.core.display.Javascript object>"
      ]
     },
     "metadata": {},
     "output_type": "display_data"
    }
   ],
   "source": [
    "%%js\n",
    "\n",
    "\n",
    "// Define string\n",
    "let phrase = \"Time can only tell\";\n",
    "\n",
    "\n",
    "// Extraction\n",
    "let partOne = phrase.slice(2, 8);\n",
    "let partTwo = phrase.slice(-18, -12);\n",
    "let remainder = phrase.slice(20);\n",
    "\n",
    "\n",
    "// Output\n",
    "console.log(partOne);  \n",
    "console.log(partTwo);  \n",
    "console.log(remainder); "
   ]
  },
  {
   "cell_type": "code",
   "execution_count": 3,
   "metadata": {},
   "outputs": [
    {
     "name": "stdout",
     "output_type": "stream",
     "text": [
      "Llt Lks Lmns\n"
     ]
    }
   ],
   "source": [
    "def remove_vowels(input_str):\n",
    "    vowels = \"aeiouAEIOU\"\n",
    "    result = ''.join([char for char in input_str if char not in vowels])\n",
    "    return result\n",
    "\n",
    "sentence = \"Lalita Likes Lemons\"\n",
    "print(remove_vowels(sentence))"
   ]
  },
  {
   "cell_type": "code",
   "execution_count": 4,
   "metadata": {},
   "outputs": [
    {
     "name": "stdout",
     "output_type": "stream",
     "text": [
      "books! reading love I\n"
     ]
    }
   ],
   "source": [
    "def reverse_words(input_str):\n",
    "    words = input_str.split()\n",
    "    reversed_words = \" \".join(words[::-1])\n",
    "    return reversed_words\n",
    "\n",
    "sentence = \"I love reading books!\"\n",
    "print(reverse_words(sentence))"
   ]
  },
  {
   "cell_type": "code",
   "execution_count": 5,
   "metadata": {
    "vscode": {
     "languageId": "javascript"
    }
   },
   "outputs": [
    {
     "data": {
      "application/javascript": "\n// Function to generate a greeting\nfunction generateGreeting(firstName, lastName) {\n    // Using template literals (string interpolation)\n    let greeting = `Hello, ${firstName} ${lastName}!`;\n    return greeting;\n}\n\n// Example usage\nlet firstName = \"Lalita\";\nlet lastName = \"Narayanan\";\nconsole.log(generateGreeting(firstName, lastName));  \n",
      "text/plain": [
       "<IPython.core.display.Javascript object>"
      ]
     },
     "metadata": {},
     "output_type": "display_data"
    }
   ],
   "source": [
    "%%javascript\n",
    "\n",
    "// Function to generate a greeting\n",
    "function generateGreeting(firstName, lastName) {\n",
    "    // Using template literals (string interpolation)\n",
    "    let greeting = `Hello, ${firstName} ${lastName}!`;\n",
    "    return greeting;\n",
    "}\n",
    "\n",
    "// Example usage\n",
    "let firstName = \"Lalita\";\n",
    "let lastName = \"Narayanan\";\n",
    "console.log(generateGreeting(firstName, lastName));  \n"
   ]
  },
  {
   "cell_type": "code",
   "execution_count": 6,
   "metadata": {},
   "outputs": [
    {
     "name": "stdout",
     "output_type": "stream",
     "text": [
      "'pip' is a palindrome!\n"
     ]
    }
   ],
   "source": [
    "# Function to check if a string is a palindrome\n",
    "def is_palindrome(input_string):\n",
    "    # Convert the string to lowercase and remove spaces for uniformity\n",
    "    cleaned_string = input_string.lower().replace(\" \", \"\")\n",
    "    \n",
    "    # Check if the cleaned string is equal to its reverse\n",
    "    return cleaned_string == cleaned_string[::-1]\n",
    "\n",
    "# Example usage\n",
    "user_input = input(\"Enter a word or phrase: \")\n",
    "if is_palindrome(user_input):\n",
    "    print(f\"'{user_input}' is a palindrome!\")\n",
    "else:\n",
    "    print(f\"'{user_input}' is not a palindrome.\")\n"
   ]
  }
 ],
 "metadata": {
  "kernelspec": {
   "display_name": "venv",
   "language": "python",
   "name": "python3"
  },
  "language_info": {
   "codemirror_mode": {
    "name": "ipython",
    "version": 3
   },
   "file_extension": ".py",
   "mimetype": "text/x-python",
   "name": "python",
   "nbconvert_exporter": "python",
   "pygments_lexer": "ipython3",
   "version": "3.12.5"
  }
 },
 "nbformat": 4,
 "nbformat_minor": 2
}
