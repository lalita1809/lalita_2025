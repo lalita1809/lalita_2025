{
 "cells": [
  {
   "cell_type": "markdown",
   "metadata": {
    "vscode": {
     "languageId": "raw"
    }
   },
   "source": [
    "---\n",
    "layout: post\n",
    "title: Homeworks and Popcorn Hacks for Lessons 3.10\n",
    "description: All homeworks for Lessons\n",
    "courses: { csp: {week: 1} }\n",
    "comments: true\n",
    "sticky_rank: 1\n",
    "---"
   ]
  },
  {
   "cell_type": "code",
   "execution_count": 1,
   "metadata": {},
   "outputs": [
    {
     "name": "stdout",
     "output_type": "stream",
     "text": [
      "Original list: [42, 'hello', 3.14, True, 'Python', [1, 2, 3], {'key': 'value'}]\n",
      "Removed item: 42\n",
      "Updated list: ['hello', 3.14, True, 'Python', [1, 2, 3], {'key': 'value'}]\n"
     ]
    }
   ],
   "source": [
    "# Step 1: Create a list with various data types\n",
    "data_list = [42, \"hello\", 3.14, True, \"Python\", [1, 2, 3], {\"key\": \"value\"}]\n",
    "\n",
    "# Step 2: Display the original list\n",
    "print(\"Original list:\", data_list)\n",
    "\n",
    "# Step 3: Ask the user for input\n",
    "user_input = input(\"Enter an index to remove (0 to {}): \".format(len(data_list) - 1))\n",
    "\n",
    "# Step 4: Validate the input (check if it's a valid index)\n",
    "try:\n",
    "    index = int(user_input)\n",
    "    if 0 <= index < len(data_list):\n",
    "        # Step 5: Remove the item at the given index\n",
    "        removed_item = data_list.pop(index)\n",
    "        print(f\"Removed item: {removed_item}\")\n",
    "    else:\n",
    "        print(\"Error: Index out of range.\")\n",
    "except ValueError:\n",
    "    print(\"Error: Please enter a valid number.\")\n",
    "\n",
    "# Step 6: Display the updated list\n",
    "print(\"Updated list:\", data_list)\n"
   ]
  },
  {
   "cell_type": "code",
   "execution_count": 2,
   "metadata": {},
   "outputs": [
    {
     "name": "stdout",
     "output_type": "stream",
     "text": [
      "Sum of even numbers: 240\n",
      "Sum of odd numbers: 225\n"
     ]
    }
   ],
   "source": [
    "# Step 1: Initialize a list with 30 numbers\n",
    "numbers = [1, 2, 3, 4, 5, 6, 7, 8, 9, 10,\n",
    "           11, 12, 13, 14, 15, 16, 17, 18, 19, 20,\n",
    "           21, 22, 23, 24, 25, 26, 27, 28, 29, 30]\n",
    "\n",
    "# Step 2: Initialize sums for even and odd numbers\n",
    "even_sum = 0\n",
    "odd_sum = 0\n",
    "\n",
    "# Step 3: Loop through each number in the list\n",
    "for number in numbers:\n",
    "    if number % 2 == 0:\n",
    "        even_sum += number  # Add to even_sum if the number is even\n",
    "    else:\n",
    "        odd_sum += number   # Add to odd_sum if the number is odd\n",
    "\n",
    "# Step 4: Output the results\n",
    "print(\"Sum of even numbers:\", even_sum)\n",
    "print(\"Sum of odd numbers:\", odd_sum)\n"
   ]
  },
  {
   "cell_type": "code",
   "execution_count": 3,
   "metadata": {},
   "outputs": [
    {
     "name": "stdout",
     "output_type": "stream",
     "text": [
      "Using a for loop:\n",
      "Reading\n",
      "Biking\n",
      "Hiking\n",
      "Going to Beach\n",
      "Being with Friends\n",
      "\n",
      "Using a while loop:\n",
      "Reading\n",
      "Biking\n",
      "Hiking\n",
      "Going to Beach\n",
      "Being with Friends\n"
     ]
    }
   ],
   "source": [
    "# Step 1: Create a list of favorite hobbies\n",
    "hobbies = [\"Reading\", \"Biking\", \"Hiking\", \"Going to Beach\", \"Being with Friends\"]\n",
    "\n",
    "# Step 2: Use a for loop to run through each hobby in the list\n",
    "print(\"Using a for loop:\")\n",
    "for hobby in hobbies:\n",
    "    print(hobby)\n",
    "\n",
    "# Step 3: Use a while loop to run through each hobby in the list\n",
    "print(\"\\nUsing a while loop:\")\n",
    "i = 0\n",
    "while i < len(hobbies):\n",
    "    print(hobbies[i])\n",
    "    i += 1\n"
   ]
  },
  {
   "cell_type": "code",
   "execution_count": 1,
   "metadata": {},
   "outputs": [],
   "source": [
    "# Define a list to hold user information\n",
    "people = []\n",
    "\n",
    "# Function to collect user input and create a person object\n",
    "def add_person():\n",
    "    name = input(\"What is your name? \")\n",
    "    age = input(\"How old are you? \")\n",
    "    \n",
    "    # Simple Yes/No question for student status\n",
    "    while True:\n",
    "        is_student = input(\"Are you a student? (yes/no): \").lower()\n",
    "        if is_student in [\"yes\", \"no\"]:\n",
    "            is_student = (is_student == \"yes\")  # Converts to Boolean\n",
    "            break\n",
    "        else:\n",
    "            print(\"Please enter 'yes' or 'no'.\")\n",
    "\n",
    "    # Create the person object\n",
    "    person = {\n",
    "        'name': name,\n",
    "        'age': age,\n",
    "        'is_student': is_student\n",
    "    }\n",
    "    \n",
    "    # Add the person to the list\n",
    "    people.append(person)\n",
    "\n",
    "    # Display the added person\n",
    "    display_people()\n",
    "\n",
    "# Function to display the list of people\n",
    "def display_people():\n",
    "    print(\"\\nCurrent List of People:\")\n",
    "    for index, person in enumerate(people, 1):\n",
    "        student_status = \"a student\" if person['is_student'] else \"not a student\"\n",
    "        print(f\"Person {index}: {person['name']}, {person['age']} years old, {student_status}\")\n",
    "\n",
    "# Example Usage"
   ]
  }
 ],
 "metadata": {
  "kernelspec": {
   "display_name": "venv",
   "language": "python",
   "name": "python3"
  },
  "language_info": {
   "codemirror_mode": {
    "name": "ipython",
    "version": 3
   },
   "file_extension": ".py",
   "mimetype": "text/x-python",
   "name": "python",
   "nbconvert_exporter": "python",
   "pygments_lexer": "ipython3",
   "version": "3.12.5"
  }
 },
 "nbformat": 4,
 "nbformat_minor": 2
}
