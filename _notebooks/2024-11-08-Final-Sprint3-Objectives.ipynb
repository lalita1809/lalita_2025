{
 "cells": [
  {
   "cell_type": "markdown",
   "metadata": {
    "vscode": {
     "languageId": "raw"
    }
   },
   "source": [
    "---\n",
    "layout: page\n",
    "title: Final Project Sprint 3 Objectives\n",
    "description: A blog for ideas for CompSci, etc.\n",
    "permalink: /final/\n",
    "comments: true\n",
    "sticky_rank: 1\n",
    "---\n",
    "{% include nav/lessons.home %}"
   ]
  },
  {
   "cell_type": "markdown",
   "metadata": {},
   "source": [
    "![image](https://github.com/user-attachments/assets/414b910b-c98f-49fd-a3ae-ab06ed1556f8)"
   ]
  },
  {
   "cell_type": "markdown",
   "metadata": {},
   "source": [
    "With this frontend we were able to be able display where the users should inpout their pitch, and their feedback. Witht he pirtch we made a button which is the button id which allows the user to submit the pitch to the backend. and then for the feedback display feedback we were able to have a \"feedback input id which then the computer knows to input the feedback into the computer and then can later on go into the backend\" and then instead of displaying the exact term \"feedback input\" there was \"submit feedback instead\". "
   ]
  },
  {
   "cell_type": "markdown",
   "metadata": {
    "vscode": {
     "languageId": "plaintext"
    }
   },
   "source": [
    "![image](https://github.com/user-attachments/assets/60980125-9323-4f96-89df-631050bff87e)"
   ]
  },
  {
   "cell_type": "markdown",
   "metadata": {
    "vscode": {
     "languageId": "plaintext"
    }
   },
   "source": [
    "This was how we fetched the data from the backend to the frontend. Using the function fetchgroups in order to connect the backend to the frontend.A try-catch block is used to handle errors that might occur during the fetch operation. If an error occurs at any point in the try block, it will be caught and logged in the catch block.method: 'POST' specifies that this is a POST request.\n",
    "The headers object sets the Content-Type to 'application/json', indicating that the request payload is in JSON format.body: JSON.stringify({ section_name: \"Create and Compete\" }) specifies the request payload, where an object with section_name set to \"Create and Compete\" is converted to a JSON string and included in the request body. The \"Create and Compete\" value can be adjusted as needed. After the request completes, the response.ok property is checked. This property will be true if the response status code is in the 200–299 range (indicating success).\n",
    "If the response isn’t successful (!response.ok), an error is thrown with a message that includes the statusText property of the response.f an error occurs at any point in the try block, it’s caught in the catch block and logged to the console as Error fetching groups. And this one of the 3 times we did this function in order to fetch different parts of data we needed to connect from the backend to the frontned. \n"
   ]
  },
  {
   "cell_type": "markdown",
   "metadata": {},
   "source": [
    "# Exploring Other Projects at N@M"
   ]
  },
  {
   "cell_type": "markdown",
   "metadata": {},
   "source": [
    "![image](https://github.com/user-attachments/assets/d4d2dadb-9814-41ca-8ff0-020aa9e2be6b)\n",
    "![image](https://github.com/user-attachments/assets/9052c56a-b3d9-4d35-a6b3-bd897297f007)\n",
    "![image](https://github.com/user-attachments/assets/bc02a4f4-84fe-47a1-9770-f163b67cdf64)\n",
    "![image](https://github.com/user-attachments/assets/5077ba3f-63c9-4af1-8b8c-ebec2e71c344)\n",
    "![image](https://github.com/user-attachments/assets/c737e4f3-2d73-4a62-bbb8-976e87f467fe)\n",
    "![image](https://github.com/user-attachments/assets/394fc3f1-d82a-447d-b26c-b64236037918)\n",
    "![image](https://github.com/user-attachments/assets/69572d06-8c43-4789-be10-f4e4c9581aa5)"
   ]
  },
  {
   "cell_type": "markdown",
   "metadata": {},
   "source": [
    "# Ticket #"
   ]
  },
  {
   "cell_type": "markdown",
   "metadata": {
    "vscode": {
     "languageId": "plaintext"
    }
   },
   "source": [
    "![image](https://github.com/user-attachments/assets/46b1bd8c-749a-4723-bd85-5bf7556de15d)\n",
    "\n",
    "\n",
    "![image](https://github.com/user-attachments/assets/cd167b37-9415-42e7-b10e-78771e832633)\n",
    "\n"
   ]
  }
 ],
 "metadata": {
  "language_info": {
   "name": "python"
  }
 },
 "nbformat": 4,
 "nbformat_minor": 2
}
